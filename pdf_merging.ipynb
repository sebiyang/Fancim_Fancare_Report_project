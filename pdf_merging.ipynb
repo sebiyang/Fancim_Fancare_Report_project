{
  "nbformat": 4,
  "nbformat_minor": 0,
  "metadata": {
    "colab": {
      "provenance": []
    },
    "kernelspec": {
      "name": "python3",
      "display_name": "Python 3"
    },
    "language_info": {
      "name": "python"
    }
  },
  "cells": [
    {
      "cell_type": "code",
      "source": [
        "pip install PyPDF2"
      ],
      "metadata": {
        "colab": {
          "base_uri": "https://localhost:8080/"
        },
        "id": "VQAeEIYDQBiR",
        "outputId": "4fbe42c3-9486-495b-f282-ebc848e6139f"
      },
      "execution_count": null,
      "outputs": [
        {
          "output_type": "stream",
          "name": "stdout",
          "text": [
            "Looking in indexes: https://pypi.org/simple, https://us-python.pkg.dev/colab-wheels/public/simple/\n",
            "Collecting PyPDF2\n",
            "  Downloading pypdf2-3.0.1-py3-none-any.whl (232 kB)\n",
            "\u001b[2K     \u001b[90m━━━━━━━━━━━━━━━━━━━━━━━━━━━━━━━━━━━━━━━\u001b[0m \u001b[32m232.6/232.6 KB\u001b[0m \u001b[31m6.2 MB/s\u001b[0m eta \u001b[36m0:00:00\u001b[0m\n",
            "\u001b[?25hRequirement already satisfied: typing_extensions>=3.10.0.0 in /usr/local/lib/python3.9/dist-packages (from PyPDF2) (4.5.0)\n",
            "Installing collected packages: PyPDF2\n",
            "Successfully installed PyPDF2-3.0.1\n"
          ]
        }
      ]
    },
    {
      "cell_type": "code",
      "source": [
        "import pandas as pd\n",
        "\n",
        "celeb_df = pd.read_csv(\"/content/drive/MyDrive/celeblist\")\n",
        "celeb_list = celeb_df['user_nickname'].tolist()"
      ],
      "metadata": {
        "id": "N1LcxJuAX53U"
      },
      "execution_count": null,
      "outputs": []
    },
    {
      "cell_type": "code",
      "source": [
        "remove_set = { 'add celebs to remove'}\n",
        "celeb_list = [i for i in celeb_list if i not in remove_set]"
      ],
      "metadata": {
        "id": "8kcbe48CZI9-"
      },
      "execution_count": null,
      "outputs": []
    },
    {
      "cell_type": "code",
      "source": [
        "from PyPDF2 import PdfReader, PdfMerger\n",
        "import os\n",
        "\n",
        "output_dir = '/content/drive/MyDrive/팬케어 보고서 프로젝트/3월_최종본'\n",
        "\n",
        "# Loop through the image pairs (assumes files named image1(1).png, image1(2).png, image2(1).png, image2(2).png, etc.)\n",
        "for i in celeb_list:\n",
        "\n",
        "\n",
        "        # Open the two images for this pair\n",
        "        pdf0 = open(f'/content/drive/MyDrive/팬케어 보고서 프로젝트/3월_rawpdf/0.{i}.pdf', 'rb')\n",
        "        pdf1 = open(f'/content/drive/MyDrive/팬케어 보고서 프로젝트/3월_rawpdf_1/1.{i}.pdf', 'rb')\n",
        "        pdf2 = open(f'/content/drive/MyDrive/팬케어 보고서 프로젝트/3월_rawpdf_2/2.{i}.pdf', 'rb')\n",
        "        pdf3 = open(f'/content/drive/MyDrive/팬케어 보고서 프로젝트/3월_rawpdf_3/3.{i}.pdf', 'rb')\n",
        "\n",
        "        # Create a PDF merger object\n",
        "        pdf_merger = PdfMerger()\n",
        "\n",
        "        # Add the three PDF files to the merger object\n",
        "        pdf_merger.append(PdfReader(pdf0))\n",
        "        pdf_merger.append(PdfReader(pdf1))\n",
        "        pdf_merger.append(PdfReader(pdf2))\n",
        "        pdf_merger.append(PdfReader(pdf3))\n",
        "\n",
        "        # Construct the output filename\n",
        "        output_filename = f'3월_팬심M_팬케어보고서_{i}.pdf'\n",
        "        pdf_merger.write(os.path.join(output_dir, output_filename))\n"
      ],
      "metadata": {
        "id": "mLi0h32vtKYE"
      },
      "execution_count": null,
      "outputs": []
    },
    {
      "cell_type": "code",
      "source": [],
      "metadata": {
        "id": "N6JufZr8tKaN"
      },
      "execution_count": null,
      "outputs": []
    }
  ]
}