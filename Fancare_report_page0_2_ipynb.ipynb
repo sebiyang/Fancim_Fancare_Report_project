{
  "nbformat": 4,
  "nbformat_minor": 0,
  "metadata": {
    "colab": {
      "provenance": []
    },
    "kernelspec": {
      "name": "python3",
      "display_name": "Python 3"
    },
    "language_info": {
      "name": "python"
    }
  },
  "cells": [
    {
      "cell_type": "markdown",
      "source": [
        "#1. Setup "
      ],
      "metadata": {
        "id": "kWxF-ejI0fOi"
      }
    },
    {
      "cell_type": "code",
      "execution_count": null,
      "metadata": {
        "id": "mgxW97zCzrKi"
      },
      "outputs": [],
      "source": [
        "# @title Setup\n",
        "from google.colab import auth\n",
        "from google.cloud import bigquery\n",
        "from google.colab import data_table\n",
        "import pandas as pd\n",
        "\n",
        "project = 'project name' # Project ID inserted based on the query results selected to explore\n",
        "location = 'location' # Location inserted based on the query results selected to explore\n",
        "client = bigquery.Client(project=project, location=location)\n",
        "data_table.enable_dataframe_formatter()\n",
        "auth.authenticate_user()"
      ]
    },
    {
      "cell_type": "code",
      "source": [
        "%load_ext google.colab.data_table"
      ],
      "metadata": {
        "id": "ZaIuC1CB0HHX"
      },
      "execution_count": null,
      "outputs": []
    },
    {
      "cell_type": "markdown",
      "source": [
        "#2. Celeb KPI of app use\n",
        "\n",
        "\n",
        "-this month / last month action by time \n",
        "\n",
        "Chat (general message, reply, public message) / Like / Contents (photo, video, voice)\n",
        "\n",
        "- create rate of increase and decrease\n",
        "\n",
        "\n",
        "\n",
        "\n",
        "---\n",
        "\n",
        "\n",
        "\n",
        "\n",
        "-이번 달 셀럽 활동 시간별\n",
        "\n",
        " (채팅 - 일반,답장,전체공개 포션 나눠서 / 좋아요 / 컨텐츠 - 사진동영상음성 )\n",
        "\n",
        " -지난 달 셀럽 활동 시간별\n",
        "\n",
        " (채팅 - 일반,답장,전체공개 포션 나눠서 / 좋아요 / 컨텐츠 - 사진동영상음성 )\n",
        "\n",
        "\n",
        "\n",
        "`**-> Raw 이번 달 데이터 / 지난 달 대비 증감율 / 팬심 M 평균 / 팬심 M 평균 대비 **`\n",
        "\n",
        "\n",
        "\n",
        "\n",
        "\n",
        "\n",
        "\n",
        "\n",
        "-이번 달 팬 활동 시간별\n",
        "\n",
        "(채팅 / 좋아요 / 땡스 총액 / **접속시간** / 소속 채팅방)\n",
        "\n",
        "-지난 달 팬 활동 시간별\n",
        "\n",
        "(채팅 / 좋아요 / 땡스 총액 / **접속시간** / 소속 채팅방)\n",
        "\n",
        "\n",
        "\n",
        "\n",
        "`**-> Raw 이번 달 데이터 / 지난 달 대비 증감율 / 팬심 M 평균 / 팬심 M 평균 대비 **`"
      ],
      "metadata": {
        "id": "22zT_pk_0qTz"
      }
    },
    {
      "cell_type": "markdown",
      "source": [
        "#### 2.1. This month Chat data\n",
        "\n",
        "\n",
        "identification columns are chat_pressedBtn_click and chat_page_btnicons_click\n",
        "\n",
        "\n",
        "---\n",
        "\n",
        "\n",
        "- 믹스패널 상에서는 chat_pressedBtn_click 과 chat_page_btnicons_click 에 나뉘어서 나옴\n",
        "\n"
      ],
      "metadata": {
        "id": "MWGYXoLE0szH"
      }
    },
    {
      "cell_type": "code",
      "source": [
        "%%bigquery celeb_chat --project  project name \n",
        "\n",
        "SELECT  user_nickname, user_type, message_length, chat_room_btn_icon_name, chat_celeb_nickname, chat_room_id, time\n",
        "\n",
        "FROM `project name.mixpanel_test.mp_master_event` \n",
        "\n",
        "WHERE ((message_length > 0) OR (chat_room_btn_icon_name != ' ')) \n",
        "AND (time BETWEEN '2023-03-01 00:00:00' AND '2023-03-31 23:59:59')\n",
        "AND (user_nickname = chat_celeb_nickname)\n",
        "\n",
        "ORDER BY time"
      ],
      "metadata": {
        "id": "wVaqVfug0HJS"
      },
      "execution_count": null,
      "outputs": []
    },
    {
      "cell_type": "code",
      "source": [
        "celeb_chat_1 = celeb_chat.groupby(['chat_celeb_nickname', 'chat_room_id']).count()\n",
        "celeb_chat_1 = celeb_chat_1.loc[:,['message_length','chat_room_btn_icon_name']]\n",
        "\n",
        "celeb_chat_2 = pd.DataFrame(celeb_chat.groupby(['chat_celeb_nickname', 'chat_room_id'])['chat_room_btn_icon_name'].value_counts())\n",
        "celeb_chat_2 = celeb_chat_2.rename(columns={'chat_room_btn_icon_name':'counts'})\n",
        "celeb_chat_2 = celeb_chat_2.reset_index()\n",
        "\n",
        "\n",
        "celeb_chat_2 = pd.pivot_table(celeb_chat_2,                # 피벗할 데이터프레임\n",
        "                     index = ['chat_celeb_nickname','chat_room_id'],\n",
        "                      values = 'counts',\n",
        "                     columns = 'chat_room_btn_icon_name')    # 열 위치에 들어갈 열\n",
        "\n",
        "\n",
        "celeb_chat_2 = celeb_chat_2.fillna(0)\n",
        "celeb_chat_1 = celeb_chat_1.fillna(0)\n",
        "celeb_chat_1 = celeb_chat_1.rename(columns={'chat_room_btn_icon_name':'total_btn_icon_name'})\n",
        "celeb_chat_1 = celeb_chat_1.rename(columns={'message_length':'message'})\n",
        "\n",
        "chat_celeb_total = pd.merge(celeb_chat_1, celeb_chat_2,left_index=True, right_index=True, how='outer')\n",
        "chat_celeb_total = chat_celeb_total.fillna(0)\n",
        "\n",
        "\n",
        "chat_celeb_total.rename(columns={'message':'일반채팅 수'}, inplace = True)\n",
        "chat_celeb_total.rename(columns={'Reply':'답장 수'}, inplace = True)\n",
        "chat_celeb_total.rename(columns={'Share':'전체공개 수'}, inplace = True)\n",
        "chat_celeb_total.rename(columns={'Like':'좋아요 수'}, inplace = True)\n",
        "chat_celeb_total['컨텐츠 수'] = chat_celeb_total['Image']+chat_celeb_total['Record']+chat_celeb_total['Video']\n",
        "\n",
        "chat_celeb_total = chat_celeb_total.loc[: , ['일반채팅 수', '답장 수', '전체공개 수', '좋아요 수', '컨텐츠 수']]\n",
        "\n",
        "\n",
        "celeb_chat_total_this_month = chat_celeb_total\n",
        "celeb_chat_total_this_month"
      ],
      "metadata": {
        "id": "pumVT-ft0HN1"
      },
      "execution_count": null,
      "outputs": []
    },
    {
      "cell_type": "markdown",
      "source": [
        "#### 2.1.  Last month Chat data\n"
      ],
      "metadata": {
        "id": "kl8AyBFvWoed"
      }
    },
    {
      "cell_type": "code",
      "source": [
        "%%bigquery celeb_chat_last_month --project  project name \n",
        "\n",
        "SELECT  user_nickname, user_type, message_length, chat_room_btn_icon_name, chat_celeb_nickname, chat_room_id, time\n",
        "\n",
        "FROM `project name.mixpanel_test.mp_master_event` \n",
        "\n",
        "WHERE ((message_length > 0) OR (chat_room_btn_icon_name != ' ')) \n",
        "AND (time BETWEEN '2023-02-01 00:00:00' AND '2023-02-28 23:59:59')\n",
        "AND (user_nickname = chat_celeb_nickname)\n",
        "\n",
        "ORDER BY time"
      ],
      "metadata": {
        "id": "shZahTGAWoed"
      },
      "execution_count": null,
      "outputs": []
    },
    {
      "cell_type": "code",
      "source": [
        "celeb_chat_last_month\n",
        "\n",
        "celeb_chat_1_last_month = celeb_chat_last_month.groupby(['chat_celeb_nickname', 'chat_room_id']).count()\n",
        "celeb_chat_1_last_month = celeb_chat_1_last_month.loc[:,['message_length','chat_room_btn_icon_name']]\n",
        "\n",
        "celeb_chat_2_last_month = pd.DataFrame(celeb_chat_last_month.groupby(['chat_celeb_nickname', 'chat_room_id'])['chat_room_btn_icon_name'].value_counts())\n",
        "celeb_chat_2_last_month = celeb_chat_2_last_month.rename(columns={'chat_room_btn_icon_name':'counts'})\n",
        "celeb_chat_2_last_month = celeb_chat_2_last_month.reset_index()\n",
        "\n",
        "celeb_chat_2_last_month = pd.pivot_table(celeb_chat_2_last_month,               \n",
        "                     index = ['chat_celeb_nickname','chat_room_id'],\n",
        "                      values = 'counts',\n",
        "                     columns = 'chat_room_btn_icon_name')    \n",
        "                     \n",
        "\n",
        "celeb_chat_2_last_month = celeb_chat_2_last_month.fillna(0)\n",
        "celeb_chat_1_last_month = celeb_chat_1_last_month.fillna(0)\n",
        "celeb_chat_1_last_month = celeb_chat_1_last_month.rename(columns={'chat_room_btn_icon_name':'total_btn_icon_name'})\n",
        "celeb_chat_1_last_month = celeb_chat_1_last_month.rename(columns={'message_length':'message'})\n",
        "\n",
        "celeb_chat_total_last_month = pd.merge(celeb_chat_1_last_month, celeb_chat_2_last_month,left_index=True, right_index=True, how='outer')\n",
        "celeb_chat_total_last_month = celeb_chat_total_last_month.fillna(0)\n",
        "\n",
        "\n",
        "celeb_chat_total_last_month.rename(columns={'message':'일반채팅 수'}, inplace = True)\n",
        "celeb_chat_total_last_month.rename(columns={'Reply':'답장 수'}, inplace = True)\n",
        "celeb_chat_total_last_month.rename(columns={'Share':'전체공개 수'}, inplace = True)\n",
        "celeb_chat_total_last_month.rename(columns={'Like':'좋아요 수'}, inplace = True)\n",
        "celeb_chat_total_last_month['컨텐츠 수'] = celeb_chat_total_last_month['Image']+celeb_chat_total_last_month['Record']+celeb_chat_total_last_month['Video']\n",
        "celeb_chat_total_last_month = celeb_chat_total_last_month.loc[: , ['일반채팅 수', '답장 수', '전체공개 수', '좋아요 수', '컨텐츠 수']]\n",
        "\n",
        "\n",
        "celeb_chat_total_last_month"
      ],
      "metadata": {
        "id": "G7cmiY-qWoed"
      },
      "execution_count": null,
      "outputs": []
    },
    {
      "cell_type": "code",
      "source": [
        "celeb_chat_total_last_month.info()"
      ],
      "metadata": {
        "id": "mhIBER60XNn5"
      },
      "execution_count": null,
      "outputs": []
    },
    {
      "cell_type": "markdown",
      "source": [
        "#### 2.3. Rate "
      ],
      "metadata": {
        "id": "bxblszvWZbe0"
      }
    },
    {
      "cell_type": "code",
      "source": [
        "# calculate increase, decrease rate\n",
        "\n",
        "def calculate_change_rate(pre_val, curr_val):\n",
        "\n",
        "  change_rate = (curr_val - pre_val) / pre_val * 100\n",
        "\n",
        "  return  change_rate "
      ],
      "metadata": {
        "id": "C3ujVmhQZbBP"
      },
      "execution_count": null,
      "outputs": []
    },
    {
      "cell_type": "code",
      "source": [
        "celeb_chat_total_this_month['일반채팅_증감율'] = calculate_change_rate(celeb_chat_total_last_month['일반채팅 수'], celeb_chat_total_this_month['일반채팅 수'])\n",
        "celeb_chat_total_this_month['답장_증감율'] = calculate_change_rate(celeb_chat_total_last_month['답장 수'], celeb_chat_total_this_month['답장 수'])\n",
        "celeb_chat_total_this_month['전체공개_증감율'] = calculate_change_rate(celeb_chat_total_last_month['전체공개 수'], celeb_chat_total_this_month['전체공개 수'])\n",
        "celeb_chat_total_this_month['좋아요_증감율'] = calculate_change_rate(celeb_chat_total_last_month['좋아요 수'], celeb_chat_total_this_month['좋아요 수'])\n",
        "celeb_chat_total_this_month['컨텐츠_증감율'] = calculate_change_rate(celeb_chat_total_last_month['컨텐츠 수'], celeb_chat_total_this_month['컨텐츠 수'])\n",
        "\n",
        "celeb_chat_total_this_month = celeb_chat_total_this_month.fillna(0)\n",
        "\n",
        "\n",
        "celeb_chat_total_this_month"
      ],
      "metadata": {
        "id": "drnuvA1oZaF-"
      },
      "execution_count": null,
      "outputs": []
    },
    {
      "cell_type": "code",
      "source": [
        "celeb_chat_total_this_month.info()"
      ],
      "metadata": {
        "id": "pyTOF5RfXZgR"
      },
      "execution_count": null,
      "outputs": []
    },
    {
      "cell_type": "markdown",
      "source": [
        "#### 2.4. Calculation of mean ratio"
      ],
      "metadata": {
        "id": "KAJig6YSrNu7"
      }
    },
    {
      "cell_type": "code",
      "source": [
        "#Calculate mean \n",
        "#팬심 M 평균을 계산하는 코드 \n",
        "#멀티인덱스는 알아서 맞춰줍니다 \n",
        "\n",
        "import numpy as np \n",
        "\n",
        "def calculate_mean(val):\n",
        "\n",
        "   avg = int(np.mean(val))\n",
        "\n",
        "   return avg \n",
        "\n",
        "\n",
        "# Calcutate Celeb's activation of mean ratio\n",
        "# 팬심 평균 대비 셀럽 활동 지표를 계산하는 코드 \n",
        "# (대상값 - 평균값 / 평균값) *100\n",
        "\n",
        "\n",
        "def calculate_percentage(val, mean):\n",
        "\n",
        "  output =  ((val - mean)/ mean) *100\n",
        "\n",
        "  return output\n"
      ],
      "metadata": {
        "id": "oYSFnvn6rXCP"
      },
      "execution_count": null,
      "outputs": []
    },
    {
      "cell_type": "code",
      "source": [
        "#celeb_chat_total_this_month['일반채팅_평균'] = calculate_mean(celeb_chat_total_this_month['일반채팅 수'])\n",
        "celeb_chat_total_this_month['답장_평균'] = calculate_mean(celeb_chat_total_this_month['답장 수'])\n",
        "celeb_chat_total_this_month['전체공개_평균'] = calculate_mean(celeb_chat_total_this_month['전체공개 수'])\n",
        "celeb_chat_total_this_month['좋아요_평균'] = calculate_mean(celeb_chat_total_this_month['좋아요 수'])\n",
        "celeb_chat_total_this_month['컨텐츠_평균'] = calculate_mean(celeb_chat_total_this_month['컨텐츠 수'])\n",
        "\n",
        "celeb_chat_total_this_month['일반채팅_평균대비'] = calculate_percentage(celeb_chat_total_this_month['일반채팅 수'],celeb_chat_total_this_month['일반채팅_평균'])\n",
        "celeb_chat_total_this_month['답장_평균대비'] = calculate_percentage(celeb_chat_total_this_month['답장 수'], celeb_chat_total_this_month['답장_평균'])\n",
        "celeb_chat_total_this_month['전체공개_평균대비'] = calculate_percentage(celeb_chat_total_this_month['전체공개 수'], celeb_chat_total_this_month['전체공개_평균'])\n",
        "celeb_chat_total_this_month['좋아요_평균대비'] = calculate_percentage(celeb_chat_total_this_month['좋아요 수'], celeb_chat_total_this_month['좋아요_평균'])\n",
        "celeb_chat_total_this_month['컨텐츠_평균대비'] = calculate_percentage(celeb_chat_total_this_month['컨텐츠 수'], celeb_chat_total_this_month['컨텐츠_평균'])\n",
        "\n",
        "\n",
        "celeb_chat_total_this_month = celeb_chat_total_this_month.fillna(0)\n",
        "\n",
        "\n",
        "celeb_chat_total_this_month"
      ],
      "metadata": {
        "id": "yENg4q8krXJn"
      },
      "execution_count": null,
      "outputs": []
    },
    {
      "cell_type": "markdown",
      "source": [
        "#3. Fan action data"
      ],
      "metadata": {
        "id": "tGJWjOnxjLfG"
      }
    },
    {
      "cell_type": "markdown",
      "source": [
        "#### 3.1. Fan Chat data "
      ],
      "metadata": {
        "id": "N958dXg0LLoZ"
      }
    },
    {
      "cell_type": "code",
      "source": [
        "%%bigquery fan_chat_this_month --project  project name \n",
        "\n",
        "SELECT \n",
        "  chat_room_id, \n",
        "  chat_celeb_nickname,\n",
        "  user_nickname, \n",
        "  count(message_length) AS message, \n",
        "  SUM(IFNULL(CAST(product_price_string AS INT64), 0)) AS thanku,\n",
        "  SUM(CASE WHEN chat_room_btn_icon_name = 'Annouce' THEN 1 ELSE 0 END) AS Annouce,\n",
        "  SUM(CASE WHEN chat_room_btn_icon_name = 'Copy' THEN 1 ELSE 0 END) AS Copy,\n",
        "  SUM(CASE WHEN chat_room_btn_icon_name = 'Delete' THEN 1 ELSE 0 END) AS Delete,\n",
        "  SUM(CASE WHEN chat_room_btn_icon_name = 'Image' THEN 1 ELSE 0 END) AS Image,\n",
        "  SUM(CASE WHEN chat_room_btn_icon_name = 'Like' THEN 1 ELSE 0 END) AS Liked,\n",
        "  SUM(CASE WHEN chat_room_btn_icon_name = 'Record' THEN 1 ELSE 0 END) AS Record,\n",
        "  SUM(CASE WHEN chat_room_btn_icon_name = 'Reply' THEN 1 ELSE 0 END) AS Reply,\n",
        "  SUM(CASE WHEN chat_room_btn_icon_name = 'Report_Message' THEN 1 ELSE 0 END) AS Report_Message,\n",
        "  SUM(CASE WHEN chat_room_btn_icon_name = 'Share' THEN 1 ELSE 0 END) AS Share,\n",
        "  SUM(CASE WHEN chat_room_btn_icon_name = 'Translate' THEN 1 ELSE 0 END) AS Translate,\n",
        "  SUM(CASE WHEN chat_room_btn_icon_name = 'Video' THEN 1 ELSE 0 END) AS Video,\n",
        "  SUM(SAFE_CAST(product_price_string AS FLOAT64)) as thanks_total, #non-numeric value 를 sum 하기 위해 \n",
        "  COUNT(product_price_string) as thanks_count\n",
        "\n",
        "\n",
        "FROM  `project name.mixpanel_test.mp_master_event` \n",
        "\n",
        "WHERE (time BETWEEN '2023-03-01 00:00:00' AND '2023-03-31 23:59:59')\n",
        "AND (user_nickname != chat_celeb_nickname)\n",
        "AND (chat_room_id != '')\n",
        "\n",
        "GROUP BY \n",
        "  chat_room_id, \n",
        "  chat_celeb_nickname, \n",
        "  user_nickname\n",
        "\n",
        "ORDER BY \n",
        "  chat_room_id, \n",
        "  chat_celeb_nickname, \n",
        "  user_nickname"
      ],
      "metadata": {
        "id": "piFmCUvl_yRH"
      },
      "execution_count": null,
      "outputs": []
    },
    {
      "cell_type": "code",
      "source": [
        "fan_chat_this_month.rename(columns={'message':'일반채팅 수'}, inplace = True)\n",
        "fan_chat_this_month.rename(columns={'Liked':'좋아요 수'}, inplace = True)\n",
        "fan_chat_this_month.rename(columns={'thanks_total':'땡큐스티커 총 금액(샷)'}, inplace = True)\n",
        "fan_chat_this_month.rename(columns={'thanks_count':'땡큐스티커 발송 횟수'}, inplace = True)\n",
        "fan_chat_this_month = fan_chat_this_month.loc[: , ['chat_room_id', 'chat_celeb_nickname', 'user_nickname','일반채팅 수', '좋아요 수', '땡큐스티커 총 금액(샷)','땡큐스티커 발송 횟수' ]]\n",
        "fan_chat_this_month = fan_chat_this_month.fillna(0)\n",
        "\n",
        "#그룹바이 안 하면 user_nickname 살아있음\n",
        "fan_chat_this_month = fan_chat_this_month.groupby(['chat_room_id','chat_celeb_nickname']).sum()\n",
        "\n",
        "\n",
        "fan_chat_this_month"
      ],
      "metadata": {
        "id": "kDL-BHFu_yTb"
      },
      "execution_count": null,
      "outputs": []
    },
    {
      "cell_type": "markdown",
      "source": [
        "#### 3.2. Fan act Last month "
      ],
      "metadata": {
        "id": "0tqSOsHyiBWI"
      }
    },
    {
      "cell_type": "code",
      "source": [
        "%%bigquery fan_chat_last_month --project  project name \n",
        "\n",
        "SELECT \n",
        "  chat_room_id, \n",
        "  chat_celeb_nickname,\n",
        "  user_nickname, \n",
        "  count(message_length) AS message, \n",
        "  SUM(IFNULL(CAST(product_price_string AS INT64), 0)) AS thanku,\n",
        "  SUM(CASE WHEN chat_room_btn_icon_name = 'Annouce' THEN 1 ELSE 0 END) AS Annouce,\n",
        "  SUM(CASE WHEN chat_room_btn_icon_name = 'Copy' THEN 1 ELSE 0 END) AS Copy,\n",
        "  SUM(CASE WHEN chat_room_btn_icon_name = 'Delete' THEN 1 ELSE 0 END) AS Delete,\n",
        "  SUM(CASE WHEN chat_room_btn_icon_name = 'Image' THEN 1 ELSE 0 END) AS Image,\n",
        "  SUM(CASE WHEN chat_room_btn_icon_name = 'Like' THEN 1 ELSE 0 END) AS Liked,\n",
        "  SUM(CASE WHEN chat_room_btn_icon_name = 'Record' THEN 1 ELSE 0 END) AS Record,\n",
        "  SUM(CASE WHEN chat_room_btn_icon_name = 'Reply' THEN 1 ELSE 0 END) AS Reply,\n",
        "  SUM(CASE WHEN chat_room_btn_icon_name = 'Report_Message' THEN 1 ELSE 0 END) AS Report_Message,\n",
        "  SUM(CASE WHEN chat_room_btn_icon_name = 'Share' THEN 1 ELSE 0 END) AS Share,\n",
        "  SUM(CASE WHEN chat_room_btn_icon_name = 'Translate' THEN 1 ELSE 0 END) AS Translate,\n",
        "  SUM(CASE WHEN chat_room_btn_icon_name = 'Video' THEN 1 ELSE 0 END) AS Video,\n",
        "  SUM(SAFE_CAST(product_price_string AS FLOAT64)) as thanks_total, #non-numeric value 를 sum 하기 위해 \n",
        "  COUNT(product_price_string) as thanks_count\n",
        "\n",
        "\n",
        "FROM  `project name.mixpanel_test.mp_master_event` \n",
        "\n",
        "WHERE (time BETWEEN '2023-02-01 00:00:00' AND '2023-02-28 23:59:59')\n",
        "AND (user_nickname != chat_celeb_nickname)\n",
        "AND (chat_room_id != '')\n",
        "\n",
        "GROUP BY \n",
        "  chat_room_id, \n",
        "  chat_celeb_nickname, \n",
        "  user_nickname\n",
        "\n",
        "ORDER BY \n",
        "  chat_room_id, \n",
        "  chat_celeb_nickname, \n",
        "  user_nickname"
      ],
      "metadata": {
        "id": "vBX1BXzQdc5B"
      },
      "execution_count": null,
      "outputs": []
    },
    {
      "cell_type": "code",
      "source": [
        "fan_chat_last_month.rename(columns={'message':'일반채팅 수'}, inplace = True)\n",
        "fan_chat_last_month.rename(columns={'Liked':'좋아요 수'}, inplace = True)\n",
        "fan_chat_last_month.rename(columns={'thanks_total':'땡큐스티커 총 금액(샷)'}, inplace = True)\n",
        "fan_chat_last_month.rename(columns={'thanks_count':'땡큐스티커 발송 횟수'}, inplace = True)\n",
        "fan_chat_last_month = fan_chat_last_month.loc[: , ['chat_room_id', 'chat_celeb_nickname', 'user_nickname','일반채팅 수', '좋아요 수', '땡큐스티커 총 금액(샷)','땡큐스티커 발송 횟수' ]]\n",
        "fan_chat_last_month = fan_chat_last_month.fillna(0)\n",
        "\n",
        "#그룹바이 안 하면 user_nickname 살아있음\n",
        "fan_chat_last_month = fan_chat_last_month.groupby(['chat_room_id','chat_celeb_nickname']).sum()\n",
        "\n",
        "fan_chat_last_month"
      ],
      "metadata": {
        "id": "PTMUMIDzdc7Q"
      },
      "execution_count": null,
      "outputs": []
    },
    {
      "cell_type": "markdown",
      "source": [
        "#### 3.3. Increase / decrease rate"
      ],
      "metadata": {
        "id": "rxmibWkQjTuZ"
      }
    },
    {
      "cell_type": "code",
      "source": [
        "def calculate_change_rate(pre_val, curr_val):\n",
        "\n",
        "  change_rate = (curr_val - pre_val) / pre_val * 100\n",
        "\n",
        "  return  change_rate \n",
        "\n",
        "\n",
        "fan_chat_this_month['일반채팅_증감율'] = calculate_change_rate(fan_chat_last_month['일반채팅 수'], fan_chat_this_month['일반채팅 수'])\n",
        "fan_chat_this_month['좋아요_증감율'] = calculate_change_rate(fan_chat_last_month['좋아요 수'], fan_chat_this_month['좋아요 수'])\n",
        "fan_chat_this_month['땡큐스티커_총금액_증감율'] = calculate_change_rate(fan_chat_last_month['땡큐스티커 총 금액(샷)'], fan_chat_this_month['땡큐스티커 총 금액(샷)'])\n",
        "fan_chat_this_month['땡큐스티커_횟수_증감율'] = calculate_change_rate(fan_chat_last_month['땡큐스티커 발송 횟수'], fan_chat_this_month['땡큐스티커 발송 횟수'])\n",
        "\n",
        "fan_chat_this_month.fillna(0,inplace=True)\n",
        "\n",
        "\n",
        "fan_chat_this_month"
      ],
      "metadata": {
        "id": "yYVFRw34dc_j"
      },
      "execution_count": null,
      "outputs": []
    },
    {
      "cell_type": "markdown",
      "source": [
        "####3.4.  Calculation of mean ratio"
      ],
      "metadata": {
        "id": "BpR8_AJW4d4b"
      }
    },
    {
      "cell_type": "code",
      "source": [
        "import numpy as np\n",
        "\n",
        "fan_chat_this_month['일반채팅_평균'] = calculate_mean(fan_chat_this_month['일반채팅 수'])\n",
        "fan_chat_this_month['좋아요_평균'] = calculate_mean(fan_chat_this_month['좋아요 수'])\n",
        "fan_chat_this_month['땡스총액_평균'] = calculate_mean(fan_chat_this_month['땡큐스티커 총 금액(샷)'])\n",
        "fan_chat_this_month['땡스횟수_평균'] = calculate_mean(fan_chat_this_month['땡큐스티커 발송 횟수'])\n",
        "\n",
        "fan_chat_this_month['일반채팅_평균대비'] = calculate_percentage(fan_chat_this_month['일반채팅 수'], fan_chat_this_month['일반채팅_평균'])\n",
        "fan_chat_this_month['좋아요_평균대비'] = calculate_percentage(fan_chat_this_month['좋아요 수'], fan_chat_this_month['좋아요_평균'])\n",
        "fan_chat_this_month['땡스총액_평균대비'] = calculate_percentage(fan_chat_this_month['땡큐스티커 총 금액(샷)'], fan_chat_this_month['땡스총액_평균'])\n",
        "fan_chat_this_month['땡스횟수_평균대비'] = calculate_percentage(fan_chat_this_month['땡큐스티커 발송 횟수'], fan_chat_this_month['땡스횟수_평균'])\n",
        "\n",
        "fan_chat_this_month.replace([np.inf, -np.inf], 0, inplace=True)\n",
        "fan_chat_this_month.replace(np.nan, 0, inplace=True)\n",
        "fan_chat_this_month.fillna(0, inplace=True)\n",
        "\n",
        "fan_chat_this_month"
      ],
      "metadata": {
        "id": "_uE2w-ZxddBh"
      },
      "execution_count": null,
      "outputs": []
    },
    {
      "cell_type": "code",
      "source": [
        "celeb_chat_total_this_month"
      ],
      "metadata": {
        "id": "DrZqEAMSbIkS"
      },
      "execution_count": null,
      "outputs": []
    },
    {
      "cell_type": "markdown",
      "source": [
        "#4. Automated Comment (자동 코멘트) "
      ],
      "metadata": {
        "id": "0-ufmnCOUKTU"
      }
    },
    {
      "cell_type": "code",
      "source": [
        "cols = ['일반채팅_증감율', '답장_증감율', '전체공개_증감율', '좋아요_증감율', '컨텐츠_증감율']\n",
        "\n",
        "#Count the number of negative values \n",
        "celeb_chat_total_this_month['negative_count'] = (celeb_chat_total_this_month[cols] <= 0).sum(axis=1)\n",
        "\n",
        "# Minimum value\n",
        "celeb_chat_total_this_month['blue_light1'] = celeb_chat_total_this_month[cols].apply(\n",
        "    lambda row: sorted(row.items(), key=lambda x: float('inf') if np.isinf(x[1]) else x[1])[0][0], axis=1).str.split('_').str[0]\n",
        "\n",
        "\n",
        "# Maximum value\n",
        "celeb_chat_total_this_month['red_light1'] = celeb_chat_total_this_month[cols].apply(\n",
        "    lambda row: sorted(row.items(), key=lambda x: -np.inf if np.isinf(x[1]) else x[1])[-1][0],\n",
        "    axis=1\n",
        ").str.split('_').str[0]\n",
        "\n",
        "\n",
        "pd.set_option('display.max_columns', None)\n",
        "celeb_chat_total_this_month.tail(5)"
      ],
      "metadata": {
        "id": "asMQdqBYl0vw"
      },
      "execution_count": null,
      "outputs": []
    },
    {
      "cell_type": "code",
      "source": [
        "#Specify comments differently by setting conditions to the number of negative items specified earlier. Comments have different intentions due to motivation/compliments, etc\n",
        "#앞서 지정한 음수항목 갯수로 조건을 걸어 코멘트를 다르게 지정함. 동기부여 / 칭찬 등으로 코멘트의 의도가 다름\n",
        "\n",
        "def automate_comments(df, month):\n",
        "     \n",
        "    #자동코멘트가 들어갈 리스트 #List of autocoments\n",
        "    comments = []\n",
        "\n",
        "    for celeb_name, group in df.groupby(level=0):\n",
        "\n",
        "        \n",
        "        negative_count = group['negative_count'].sum()\n",
        "\n",
        "        \n",
        "        if negative_count > 4:\n",
        "\n",
        "            \n",
        "            blue1 = group['blue_light1'].iloc[0]\n",
        "            comments.append(f\"{celeb_name} …자니..? {month}월 팬심활동이 잠들어가고있어요. 이번달에는 {blue1}에 더 신경써 볼까요? \") #comments \n",
        "\n",
        "        elif negative_count > 2:\n",
        "\n",
        "            red1 = group['red_light1'].iloc[0]\n",
        "            blue1 = group['blue_light1'].iloc[0]\n",
        "            comments.append(f\"{month} 월에는 {red1}에 최선을 다하셨군요!  다음에는 {blue1}도 해보시는게 어때요? 나의 작은 아기 고양이😉\")  #comments \n",
        "\n",
        "        elif negative_count > 1: \n",
        "\n",
        "            red1 = group['red_light1'].iloc[0]\n",
        "\n",
        "            \n",
        "            comments.append(f\"{month}월에는 {red1}에 신경써서서 팬들의 마음을 사로잡았어요. {celeb_name}님 폼 미쳤다\")  #comments \n",
        "\n",
        "        else:\n",
        "            comments.append(f\"{month}월에는 팬을 정말 열심히 챙겼어요.{celeb_name}님 좀 치시는군요? 박수를? 👏👏👏\")  #comments \n",
        "            \n",
        "    return comments\n",
        "\n",
        "\n",
        "celeb_chat_total_this_month['comments'] = automate_comments(celeb_chat_total_this_month, 3)"
      ],
      "metadata": {
        "id": "Q_OaCdO-wGkb"
      },
      "execution_count": null,
      "outputs": []
    },
    {
      "cell_type": "code",
      "source": [
        "celeb_chat_total_this_month['negative_count'].value_counts()"
      ],
      "metadata": {
        "id": "BcePiKNe4z8P"
      },
      "execution_count": null,
      "outputs": []
    },
    {
      "cell_type": "code",
      "source": [
        "#check \n",
        "celeb_chat_total_this_month[celeb_chat_total_this_month['negative_count'] == 3]"
      ],
      "metadata": {
        "id": "VQv4s7t2HRQg"
      },
      "execution_count": null,
      "outputs": []
    },
    {
      "cell_type": "code",
      "source": [
        "#check \n",
        "celeb_chat_total_this_month[celeb_chat_total_this_month['negative_count'] == 2]"
      ],
      "metadata": {
        "id": "ziRwLi_YzA3l"
      },
      "execution_count": null,
      "outputs": []
    },
    {
      "cell_type": "markdown",
      "source": [
        "#4. Save"
      ],
      "metadata": {
        "id": "vNms3rPbOSyu"
      }
    },
    {
      "cell_type": "code",
      "source": [
        "import pandas as pd\n",
        "\n",
        "fan_chat_this_month.to_csv('./Fancare_report_page0_2_fan.csv')\n",
        "celeb_chat_total_this_month.to_csv('./Fancare_report_page0_2_celeb.csv')"
      ],
      "metadata": {
        "id": "dvh6VQlq_yVv"
      },
      "execution_count": null,
      "outputs": []
    }
  ]
}