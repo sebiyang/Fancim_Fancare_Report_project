{
  "cells": [
    {
      "cell_type": "markdown",
      "source": [
        "#1. Setup & Data import "
      ],
      "metadata": {
        "id": "5i-_eT4Ap79P"
      }
    },
    {
      "cell_type": "code",
      "execution_count": null,
      "metadata": {
        "id": "w6MmeBUBJ-9E"
      },
      "outputs": [],
      "source": [
        "# @title Setup\n",
        "from google.colab import auth\n",
        "from google.cloud import bigquery\n",
        "from google.colab import data_table\n",
        "\n",
        "project = 'add project name' # Project ID inserted based on the query results selected to explore\n",
        "location = 'add location' # Location inserted based on the query results selected to explore\n",
        "\n",
        "client = bigquery.Client(project=project, location=location)\n",
        "data_table.enable_dataframe_formatter()\n",
        "auth.authenticate_user()"
      ]
    },
    {
      "cell_type": "code",
      "source": [
        "####test data import "
      ],
      "metadata": {
        "id": "nZVDM1TlfGi5"
      },
      "execution_count": null,
      "outputs": []
    },
    {
      "cell_type": "code",
      "source": [
        "%load_ext google.colab.data_table"
      ],
      "metadata": {
        "id": "aeOCCfqdfGnN"
      },
      "execution_count": null,
      "outputs": []
    },
    {
      "cell_type": "code",
      "source": [
        "%%bigquery df --project  add project name \n",
        "\n",
        "SELECT  user_nickname ,distinct_id,chat_room_id, chat_room_name, user_type, time, product_price, message_length, chat_celeb_nickname\n",
        "\n",
        "FROM `add project name.project_name`\n",
        "\n",
        "WHERE (time BETWEEN '2023-03-01 00:00:00' AND '2023-03-31 23:59:59')"
      ],
      "metadata": {
        "colab": {
          "base_uri": "https://localhost:8080/",
          "referenced_widgets": [
            "b5e7277272b0463ba10fe10b5d0f4729",
            "933c531f45d8437aba78b3c7b42cfe41",
            "11a2aef2ac064830b465fe0823039eeb",
            "3a52cac8b9a746d4974be435db7f12d2",
            "ff176af2708d49c2b363585519edb1a3",
            "a56cdf1752ce4191b13e0a1fb050f32b",
            "0e60c3ccd9fe42efa4846de5a796db95",
            "e41ab2ea86f24bc9af6a319b202325d6",
            "3009a5f9ecb0489e8e5b6974598ef1a1",
            "dcaf62612ba44645ac27005c1eb503fe",
            "8e1b4ff48e3c42e4bc29b0aebb006007",
            "5cea23f73ac34bb88785b017822012e8",
            "10972a1177b54d8185b2a59334223ae4",
            "2184bc056460430594a95cf147d97f3b",
            "88595afec247481da2b06c654825b397",
            "d1efd4847756469b8f22c04ef95f2d40",
            "4bf4f7059b884532bb433ec10383daf6",
            "572e791db2a042838d802ecb4e34fba6",
            "2fa0e76900d948d49804bf9228f83f44",
            "53a12f400a0b4adab7954fe8cb20806f",
            "28a9be4ec89845d9a2dd407ce4e7c742",
            "32259cde2ab04e2b9d515f5f17dbd541"
          ],
          "height": 81
        },
        "id": "xqmJETrqfGpq",
        "outputId": "a51cacc7-6a90-4622-dc4b-cddce6d7a20a"
      },
      "execution_count": null,
      "outputs": [
        {
          "output_type": "display_data",
          "data": {
            "text/plain": [
              "Query is running:   0%|          |"
            ],
            "application/vnd.jupyter.widget-view+json": {
              "version_major": 2,
              "version_minor": 0,
              "model_id": "b5e7277272b0463ba10fe10b5d0f4729"
            }
          },
          "metadata": {}
        },
        {
          "output_type": "display_data",
          "data": {
            "text/plain": [
              "Downloading: |          |"
            ],
            "application/vnd.jupyter.widget-view+json": {
              "version_major": 2,
              "version_minor": 0,
              "model_id": "5cea23f73ac34bb88785b017822012e8"
            }
          },
          "metadata": {}
        }
      ]
    },
    {
      "cell_type": "code",
      "source": [
        "df"
      ],
      "metadata": {
        "id": "ygOJbe7mgWpN"
      },
      "execution_count": null,
      "outputs": []
    },
    {
      "cell_type": "markdown",
      "source": [
        "#2. EDA "
      ],
      "metadata": {
        "id": "bm8H4m_yqFn6"
      }
    },
    {
      "cell_type": "code",
      "execution_count": null,
      "metadata": {
        "id": "fsAsHoWDZMpv"
      },
      "outputs": [],
      "source": [
        "df.describe()"
      ]
    },
    {
      "cell_type": "code",
      "source": [
        "df.info()"
      ],
      "metadata": {
        "id": "WpVSk4njFFVc"
      },
      "execution_count": null,
      "outputs": []
    },
    {
      "cell_type": "code",
      "source": [
        "df.shape"
      ],
      "metadata": {
        "id": "KpPB4z-lQAtb"
      },
      "execution_count": null,
      "outputs": []
    },
    {
      "cell_type": "code",
      "source": [
        "df.isnull().sum()"
      ],
      "metadata": {
        "id": "u64V9c29FFYB"
      },
      "execution_count": null,
      "outputs": []
    },
    {
      "cell_type": "code",
      "source": [
        "df.head()"
      ],
      "metadata": {
        "id": "Pg2DlgxzFFaP"
      },
      "execution_count": null,
      "outputs": []
    },
    {
      "cell_type": "code",
      "source": [
        "df.tail()"
      ],
      "metadata": {
        "id": "qcAIAuHIFFcb"
      },
      "execution_count": null,
      "outputs": []
    },
    {
      "cell_type": "code",
      "source": [
        "df_celeb = df[df['user_type']=='CELEB']\n",
        "df_celeb = df_celeb.groupby(['user_nickname','chat_room_id','chat_room_name']).sum()\n",
        "df_celeb"
      ],
      "metadata": {
        "id": "3winC-nlHqs1"
      },
      "execution_count": null,
      "outputs": []
    },
    {
      "cell_type": "code",
      "source": [
        "df_fan = df[df['user_type']=='FAN']\n",
        "df_fan = df_fan.groupby(['user_nickname','chat_room_id','chat_room_name']).sum()\n",
        "df_fan"
      ],
      "metadata": {
        "id": "SsToWBveHqvU"
      },
      "execution_count": null,
      "outputs": []
    },
    {
      "cell_type": "code",
      "source": [
        "df_fan.isnull().sum()"
      ],
      "metadata": {
        "id": "0AmYcQpQHqxU"
      },
      "execution_count": null,
      "outputs": []
    },
    {
      "cell_type": "markdown",
      "source": [
        "#3. Preprocessing\n"
      ],
      "metadata": {
        "id": "4ZwrrmtAqJgI"
      }
    },
    {
      "cell_type": "markdown",
      "source": [
        "## 3.1.How to deal Nan values! \n",
        "\n",
        "\n",
        "**if identification column appears as NaN **-> delete (the target of this project refers to activated users) \n",
        "\n",
        "if other columns appear as NaN **굵은 텍스트**\n",
        "- product_price : NaN refers to unpurchasement -> fill NaN values with 0 \n",
        "- message length : NaN refers to no message (just looking) -> fill NaN values with 0 \n",
        "\n",
        "\n",
        "\n",
        "\n",
        "---\n",
        "\n",
        "\n",
        "신원확인 컬럼이 nan 인 경우 → 고유 id 만 살리고 모델링 → 추후에 병합 \n",
        "\n",
        "그 외 컬럼들이 nan 인 경우 → \n",
        "\n",
        "1. product_price 는 “보낸 샷” → 0은 보내지 않았다는 뜻\n",
        "2.  message_length 가 0이라는 것은? → 채팅을 보내지 않고 접속만 했다\n",
        "\n",
        "따라서 product_price, message_length 모두 nan 인 경우는 0으로 처리 "
      ],
      "metadata": {
        "id": "ZBkQ9j_j0L7G"
      }
    },
    {
      "cell_type": "code",
      "source": [
        "def fillna(df):\n",
        "  df['product_price'] = df['product_price'].fillna(0)\n",
        "  df['product_price_string'] = df['product_price_string'].fillna(0)\n",
        "  #df['message_length'] = df['message_length'].fillna(0)\n",
        "  return df"
      ],
      "metadata": {
        "id": "HYFmHHL5h_Fp"
      },
      "execution_count": null,
      "outputs": []
    },
    {
      "cell_type": "markdown",
      "source": [
        "## 3.2. Change Type \n",
        "\n",
        "product_price & product_price_string should be int"
      ],
      "metadata": {
        "id": "qgIXBnG_yH4Z"
      }
    },
    {
      "cell_type": "code",
      "source": [
        "def type_change(df):\n",
        "  df['product_price_string'] = df['product_price_string'].astype('string')\n",
        "  df['product_price_string'] = df['product_price_string'].astype('int')\n",
        "  df['product_price'] = df['product_price'].astype('int')\n",
        "  return df"
      ],
      "metadata": {
        "id": "BMzMUERHyVI4"
      },
      "execution_count": null,
      "outputs": []
    },
    {
      "cell_type": "markdown",
      "source": [
        "## 3.3. Make Chat room host column \n",
        "\n",
        "\n",
        "using chat_celeb_nickname column \n",
        "\n",
        "if celeb has ever used the message function once, chat_celeb_nickname column appears to be the host \n",
        "\n",
        "if celeb hasn't ever used the message function, thus chat_celeb_nickname column shows Null, there's no other way to create the host name, Plus, the amount of Null celebs is small -> drop column\n",
        "\n",
        "\n",
        "\n",
        "---\n",
        "\n",
        "\n",
        "\n",
        "1. chat_celeb_nickname 컬럼을 이용해서 만듬 \n",
        "\n",
        "- 채팅을 친 경우 chat_celeb_nickname = 채팅방 주인 컬럼에 해당 내용 추가,이후 채팅방 주소와 1:1 매칭되는 dict 생성해서 붙여넣기 처리 \n",
        "\n",
        "- 채팅을 한번도 치지 않아 chat_celeb_nickname 이 null 인 경우 -> 약 1만개 데이터가 이 경우에 해당함, 낮은 값이기 때문에 현재로서 drop 처리 "
      ],
      "metadata": {
        "id": "oYHmhO7q0N6w"
      }
    },
    {
      "cell_type": "code",
      "source": [
        "%%bigquery chat_host --project  add project name \n",
        "\n",
        "SELECT chat_room_id, chat_celeb_nickname\n",
        "\n",
        "FROM add project_name\n",
        "\n",
        "WHERE (time BETWEEN '2023-03-01 00:00:00' AND '2023-03-31 23:59:59')\n",
        "AND (message_length > 0)\n",
        "AND (chat_celeb_nickname !='')\n",
        "AND (chat_room_id !='')\n",
        "\n",
        "GROUP BY chat_room_id, chat_celeb_nickname"
      ],
      "metadata": {
        "id": "a7ycd3ZIJ11S"
      },
      "execution_count": null,
      "outputs": []
    },
    {
      "cell_type": "code",
      "source": [
        "chat_host"
      ],
      "metadata": {
        "id": "-yF-h_0oJ9tc"
      },
      "execution_count": null,
      "outputs": []
    },
    {
      "cell_type": "code",
      "source": [
        "dict_host ={}\n",
        "\n",
        "for row, val in df['chat_celeb_nickname'].items():\n",
        "    if val: #if celeb has ever used the message function once\n",
        "        name = str(val)\n",
        "        dict_host[name] = df['chat_room_id'][row]"
      ],
      "metadata": {
        "id": "69IT8qKSG8An"
      },
      "execution_count": null,
      "outputs": []
    },
    {
      "cell_type": "code",
      "source": [
        "def chat_room_host(df):\n",
        "  for key,val in dict_host.items():\n",
        "    if val == df['chat_room_id'].values:\n",
        "      print(val)"
      ],
      "metadata": {
        "id": "knNBuQGh0y1q"
      },
      "execution_count": null,
      "outputs": []
    },
    {
      "cell_type": "code",
      "source": [
        "def find_chat_room_host(id) :\n",
        "  for p,q in dict_host.items():\n",
        "      if q == id:\n",
        "        return p"
      ],
      "metadata": {
        "id": "_L1CXqoKLRfg"
      },
      "execution_count": null,
      "outputs": []
    },
    {
      "cell_type": "code",
      "source": [
        "df['chat_room_host'] = df['chat_room_id'].apply(find_chat_room_host)"
      ],
      "metadata": {
        "id": "XvL8Dmb30NLu"
      },
      "execution_count": null,
      "outputs": []
    },
    {
      "cell_type": "code",
      "source": [
        "df.isnull().sum()"
      ],
      "metadata": {
        "id": "NdhGWJOLPOuj"
      },
      "execution_count": null,
      "outputs": []
    },
    {
      "cell_type": "markdown",
      "source": [
        "## 3.4 Find which room the fans are using (which celeb they are following)\n",
        "\n",
        "\n",
        "- Find every fan who has ever done something in the app for three months\n",
        "- Using this data, exclude users who hasn't ever used the app for a month, and name them after \"churned fan\" \n",
        "\n",
        "\n",
        "\n",
        "---\n",
        "\n",
        "\n",
        "\n",
        "- 3개월동안 특정 셀럽의 방에서 어떤 행동을 한 팬은 전부 추출 \n",
        "- 차후 해당 리스트에서 당월 집계에 포함되지 않은 모든 팬은 이탈팬으로 간주 "
      ],
      "metadata": {
        "id": "dxd4Vg0AA8rc"
      }
    },
    {
      "cell_type": "code",
      "source": [
        "%%bigquery host_user --project  add project name \n",
        "\n",
        "SELECT chat_room_id, user_nickname, chat_celeb_nickname\n",
        "\n",
        "FROM add project_name\n",
        "\n",
        "WHERE (time BETWEEN '2023-03-01 00:00:00' AND '2023-03-31 23:59:59')\n",
        "AND (chat_room_id !='')\n",
        "AND (user_nickname != \"\")\n",
        "\n",
        "\n",
        "GROUP BY chat_room_id,chat_celeb_nickname, user_nickname\n",
        "\n",
        "ORDER BY chat_celeb_nickname"
      ],
      "metadata": {
        "id": "l7qqTZfGA8Em"
      },
      "execution_count": null,
      "outputs": []
    },
    {
      "cell_type": "code",
      "source": [
        "host_user"
      ],
      "metadata": {
        "id": "32rCLAGzA8Gk"
      },
      "execution_count": null,
      "outputs": []
    },
    {
      "cell_type": "markdown",
      "source": [
        "### 3. 5. Find how many room does the user are joining (number of following celebs for fans)"
      ],
      "metadata": {
        "id": "pLeNqCHZGL_j"
      }
    },
    {
      "cell_type": "code",
      "source": [
        "%%bigquery user_room_count  --project  add project name\n",
        "\n",
        "SELECT user_nickname, count(DISTINCT chat_room_id) AS room_num\n",
        "\n",
        "FROM add project_name\n",
        "\n",
        "WHERE (time BETWEEN '2023-03-01 00:00:00' AND '2023-03-31 23:59:59')\n",
        "AND (chat_room_id !='')\n",
        "AND (user_nickname != \"\")\n",
        "\n",
        "GROUP BY user_nickname\n",
        "\n",
        "ORDER BY user_nickname"
      ],
      "metadata": {
        "colab": {
          "base_uri": "https://localhost:8080/",
          "height": 81,
          "referenced_widgets": [
            "6a7b98652a874da2b010b35c244b786b",
            "319c5bd747c94dcda44f8b93b243ac59",
            "a7ebc2dcf2bc454dafeab06a4cac210e",
            "987ee891bdea45a9bd9499075b15c13c",
            "546c4b74f1d94782a0d3079a18de7030",
            "3d85f7a5cb824777afb2b841bdad34a2",
            "e7bedee7a7ca4f40ac9ac7970b9ddc83",
            "1d1ef086f6a64ca19cb25e9d3d7c3050",
            "f499f27c4b7349339d3f380b448abd85",
            "0e7f478961f247d9babfa4ea2904f553",
            "e0ff99e62cb44d24a5cad8fed306b82d",
            "c5eb5b2c9e2f4dffa7414508ca0b3be4",
            "1efee0a5114540349866c15e8a7bbc74",
            "15893e959fdd4ff8aa623eb4d9697644",
            "14ed87ea7a52497c88bec2abad4e895d",
            "441056d6b31e4a12a5c21e78a8b344f1",
            "0811ce16911d44799e9740b65e7dd5d6",
            "505d9f30780e41888b9bff9a79e42db6",
            "0c68b1212242447e86972c708fb752df",
            "6cc7952c839c4a259eeb2affa4bba05d",
            "f7d04329585944789b2aa54389455280",
            "620bf7ee0a544d4782f6e011cd722be5"
          ]
        },
        "id": "jX5k557kEycl",
        "outputId": "f998b688-622e-4c32-a1b8-0d4aa6011f89"
      },
      "execution_count": null,
      "outputs": [
        {
          "output_type": "display_data",
          "data": {
            "text/plain": [
              "Query is running:   0%|          |"
            ],
            "application/vnd.jupyter.widget-view+json": {
              "version_major": 2,
              "version_minor": 0,
              "model_id": "6a7b98652a874da2b010b35c244b786b"
            }
          },
          "metadata": {}
        },
        {
          "output_type": "display_data",
          "data": {
            "text/plain": [
              "Downloading:   0%|          |"
            ],
            "application/vnd.jupyter.widget-view+json": {
              "version_major": 2,
              "version_minor": 0,
              "model_id": "c5eb5b2c9e2f4dffa7414508ca0b3be4"
            }
          },
          "metadata": {}
        }
      ]
    },
    {
      "cell_type": "code",
      "source": [
        "user_room_count"
      ],
      "metadata": {
        "id": "owksacvhEye6"
      },
      "execution_count": null,
      "outputs": []
    },
    {
      "cell_type": "markdown",
      "source": [
        "#4. Make Score column"
      ],
      "metadata": {
        "id": "mCsl2Zmko-gk"
      }
    },
    {
      "cell_type": "markdown",
      "source": [
        "#### 4.1. Total amount of purchasement (ThankUSticker)\n",
        "\n",
        "\n",
        "***made_sticker_total***\n",
        "\n",
        "- is sum of product_price and prodct_price_string \n",
        "- add host's filtering condition \n",
        "- add log data's tag condition (send_thankU_sticker in mp_event_name) \n",
        "- add log data's tag condition (Purchase in ecommerce_step)\n",
        "- only activated user\n",
        "\n",
        "\n",
        "\n",
        "---\n",
        "\n",
        "\n",
        "\n",
        "\n",
        "- product_price + product_price_string 합계 \n",
        "- 채팅방 주인(닉네임 말고 아이디) 필터 조건 \n",
        "- 그 중에 mp_event_name 이 send_thankU_sticker 인 것 \n",
        "- 중에 ecommerce_step 이이'Purchase' 인 것 \n",
        "- 탈퇴한 회원은 X, 팬 이름 없으면 제외시킴"
      ],
      "metadata": {
        "id": "bpefLVTD3aAr"
      }
    },
    {
      "cell_type": "code",
      "source": [
        "%%bigquery made_sticker_total --project  add project name \n",
        "\n",
        "\n",
        "SELECT  chat_room_id, user_nickname, product_price_string, product_price\n",
        "\n",
        "FROM add project_name\n",
        "\n",
        "WHERE ((product_price_string IS NOT NULL) OR (product_price>0)) \n",
        "AND (time BETWEEN '2023-03-01 00:00:00' AND '2023-03-31 23:59:59')\n",
        "AND ((ecommerce_step = 'Purchase'))\n",
        "AND (mp_event_name ='send_thankU_sticker')\n",
        "AND (user_nickname !='')\n",
        "AND (chat_room_id !='')\n",
        "\n",
        "\n",
        "ORDER BY chat_room_id;"
      ],
      "metadata": {
        "id": "4H4ds_-1v_HQ"
      },
      "execution_count": null,
      "outputs": []
    },
    {
      "cell_type": "code",
      "source": [
        "made_sticker_total"
      ],
      "metadata": {
        "id": "FCR8cmhFw75Q"
      },
      "execution_count": null,
      "outputs": []
    },
    {
      "cell_type": "code",
      "source": [
        "#change data type\n",
        "made_sticker_total['product_price_string'] = made_sticker_total['product_price_string'].astype('int')\n",
        "\n",
        "#fill nan values\n",
        "made_sticker_total = fillna(made_sticker_total)"
      ],
      "metadata": {
        "id": "hLXd72r10Ie2"
      },
      "execution_count": null,
      "outputs": []
    },
    {
      "cell_type": "code",
      "source": [
        "# turn into score values\n",
        "def made_sticker_total_func(df):\n",
        "  df = df.groupby(['chat_room_id','user_nickname']).sum()\n",
        "  df = df.reset_index()\n",
        "  df['made_sticker_total'] = df['product_price_string'] + df['product_price']\n",
        "  return df"
      ],
      "metadata": {
        "id": "b6mzkc603fkh"
      },
      "execution_count": null,
      "outputs": []
    },
    {
      "cell_type": "code",
      "source": [
        "made_sticker_total = made_sticker_total_func(made_sticker_total)\n",
        "made_sticker_total"
      ],
      "metadata": {
        "id": "KSWNszQq1aZS"
      },
      "execution_count": null,
      "outputs": []
    },
    {
      "cell_type": "markdown",
      "source": [
        "###4.2. Frequency of purchasement ***made_sticker_freq***\n",
        "\n",
        "\n",
        "- divide the sum of product_price + product_price_string as 4 weeks\n",
        "- add host's filtering condition \n",
        "- add log data's tag condition (send_thankU_sticker in mp_event_name) \n",
        "- add log data's tag condition (Purchase in ecommerce_step)\n",
        "- only activated user\n",
        "\n",
        "\n",
        "\n",
        "---\n",
        "\n",
        "\n",
        "\n",
        "\n",
        "\n",
        "- product_price + product_price_string 의 count 합계를 4주로 나눈 것\n",
        "- 채팅방 주인(닉네임 말고 아이디) 필터 조건 \n",
        "- 그 중에 mp_event_name 이 send_thankU_sticker 인 것 \n",
        "- 중에 ecommerce_step 이이'Purchase' 인 것 \n",
        "- 탈퇴한 회원은 X, 팬 이름 없으면 제외시킴\n",
        "\n"
      ],
      "metadata": {
        "id": "xOs-ajzFmwiy"
      }
    },
    {
      "cell_type": "code",
      "source": [
        "%%bigquery made_sticker_freq --project  add project name \n",
        "\n",
        "\n",
        "SELECT chat_room_id, user_nickname, COUNT(product_price_string) AS product_price_string , COUNT(product_price) AS product_price\n",
        "\n",
        "FROM add project_name\n",
        "\n",
        "WHERE ((product_price_string IS NOT NULL) OR (product_price>0)) \n",
        "AND (time BETWEEN '2023-03-01 00:00:00' AND '2023-03-31 23:59:59')\n",
        "AND ((ecommerce_step = 'Purchase'))\n",
        "AND (mp_event_name ='send_thankU_sticker')\n",
        "AND (user_nickname !='')\n",
        "AND (chat_room_id !='')\n",
        "\n",
        "\n",
        "GROUP BY chat_room_id, user_nickname\n",
        "\n",
        "ORDER BY chat_room_id;"
      ],
      "metadata": {
        "id": "j0CvzoSH3sM_"
      },
      "execution_count": null,
      "outputs": []
    },
    {
      "cell_type": "code",
      "source": [
        "made_sticker_freq"
      ],
      "metadata": {
        "id": "Ri3ECfss3sPC"
      },
      "execution_count": null,
      "outputs": []
    },
    {
      "cell_type": "code",
      "source": [
        "#change data type\n",
        "made_sticker_freq['product_price_string'] = made_sticker_freq['product_price_string'].astype('int')\n",
        "\n",
        "#fill nan values\n",
        "made_sticker_freq = fillna(made_sticker_freq)"
      ],
      "metadata": {
        "id": "z1FeCTZ53sRC"
      },
      "execution_count": null,
      "outputs": []
    },
    {
      "cell_type": "code",
      "source": [
        "# turn into score values\n",
        "def made_sticker_freq_func(df):\n",
        "  df['made_sticker_freq'] = (df['product_price_string'] + df['product_price']) / 4\n",
        "  return df"
      ],
      "metadata": {
        "id": "rG2TaNyPd_9Q"
      },
      "execution_count": null,
      "outputs": []
    },
    {
      "cell_type": "code",
      "source": [
        "made_sticker_freq = made_sticker_freq_func(made_sticker_freq)\n",
        "made_sticker_freq"
      ],
      "metadata": {
        "id": "C4c-hGi4nqHC"
      },
      "execution_count": null,
      "outputs": []
    },
    {
      "cell_type": "markdown",
      "source": [
        "### 4.3. Total amount of message sent\n",
        "\n",
        " ***made_text_total***\n",
        "\n",
        "- total Counts of message length by chat room by individual fan \n",
        "- exclude if user_nickname and chat_celeb_nickname is same (refers to celeb replying on their own room)\n",
        "- only activated users \n",
        "\n",
        "\n",
        "\n",
        "---\n",
        "\n",
        "\n",
        "\n",
        "- message_length 의 채팅방별 팬별 count 의 합계\n",
        "- user_nickname 과 chat_celeb_nickname 이 같으면 제외 (셀럽이 답장한거임)\n",
        "- 탈퇴한 회원은 X, 팬 이름 없으면 제외시킴"
      ],
      "metadata": {
        "id": "oHnyRze7qhAE"
      }
    },
    {
      "cell_type": "code",
      "source": [
        "%%bigquery  made_text_total --project  add project name \n",
        "\n",
        "SELECT chat_room_id, user_nickname, COUNT(message_length) AS message_count\n",
        "\n",
        "FROM add project_name\n",
        "\n",
        "WHERE (message_length IS NOT NULL) \n",
        "AND (time BETWEEN '2023-03-01 00:00:00' AND '2023-03-31 23:59:59')\n",
        "AND (user_nickname !='')\n",
        "AND (chat_room_id !='')\n",
        "AND (user_nickname != chat_celeb_nickname)\n",
        "\n",
        "GROUP BY chat_room_id, user_nickname\n"
      ],
      "metadata": {
        "id": "dZ_VaO_PA5sj"
      },
      "execution_count": null,
      "outputs": []
    },
    {
      "cell_type": "code",
      "source": [
        "made_text_total"
      ],
      "metadata": {
        "id": "BcHMSbQ3A5uy"
      },
      "execution_count": null,
      "outputs": []
    },
    {
      "cell_type": "code",
      "source": [
        "made_text_total = made_text_total.rename(columns = {'message_count':'made_text_total'})"
      ],
      "metadata": {
        "id": "fpAYtYTHLcmf"
      },
      "execution_count": null,
      "outputs": []
    },
    {
      "cell_type": "code",
      "source": [
        "made_text_total.info()"
      ],
      "metadata": {
        "id": "CdMJNfKAd__i"
      },
      "execution_count": null,
      "outputs": []
    },
    {
      "cell_type": "markdown",
      "source": [
        "###4.4. Total amount of Likes\n",
        "\n",
        "\n",
        "  ***made_like_total***\n",
        "\n",
        "- Like from chat_room_btn_icon_name\n",
        "- only activated users \n",
        "\n",
        "\n",
        "\n",
        "---\n",
        "\n",
        "\n",
        "\n",
        "\n",
        "- chat_room_btn_icon_name 이 Like 로 찍히는 것 중\n",
        "- user_nickname 이 null 이 아닌 것 "
      ],
      "metadata": {
        "id": "a3_1oRGfwy9k"
      }
    },
    {
      "cell_type": "code",
      "source": [
        "%%bigquery  made_like_total --project  add project name \n",
        "\n",
        "SELECT  chat_room_id, user_nickname, COUNT(chat_room_btn_icon_name) AS Liked\n",
        "\n",
        "FROM add project_name\n",
        "\n",
        "WHERE (chat_room_btn_icon_name = 'Like') \n",
        "AND (time BETWEEN '2023-03-01 00:00:00' AND '2023-03-31 23:59:59')\n",
        "AND (user_nickname IS NOT NULL)\n",
        "\n",
        "GROUP BY chat_room_id, user_nickname"
      ],
      "metadata": {
        "id": "IONagF_Yyy2G"
      },
      "execution_count": null,
      "outputs": []
    },
    {
      "cell_type": "code",
      "source": [
        "made_like_total"
      ],
      "metadata": {
        "id": "exrxel8Iyy4N"
      },
      "execution_count": null,
      "outputs": []
    },
    {
      "cell_type": "markdown",
      "source": [
        "#### 4.5. Total counts of joining room \n",
        "\n",
        "\n",
        "***made_room_count***\n",
        "\n",
        "- there's a problem in data tracking (excluded this column finally)\n",
        "\n",
        "\n",
        "\n",
        "---\n",
        "\n",
        "\n",
        "\n",
        "- 현재 트래킹이 이상하게 되는 중임..\n",
        "- screen name 이 'Chat Room Page' 로 찍히는 것 중\n",
        "- 채팅방이나 닉네임이 null 이면 제외"
      ],
      "metadata": {
        "id": "MoVDVn36w-nV"
      }
    },
    {
      "cell_type": "code",
      "source": [
        "%%bigquery   made_room_count --project  add project name \n",
        "\n",
        "SELECT DISTINCT(chat_room_id), user_nickname, COUNT(screen_name) AS made_room_count\n",
        "\n",
        "FROM add project_name\n",
        "\n",
        "WHERE (screen_name = 'Chat Room Page') \n",
        "AND (time BETWEEN '2023-03-01 00:00:00' AND '2023-03-31 23:59:59')\n",
        "AND (user_nickname !='')\n",
        "AND (chat_room_id !='')\n",
        "\n",
        "GROUP BY chat_room_id, user_nickname"
      ],
      "metadata": {
        "id": "wJNg2o9LpAc0"
      },
      "execution_count": null,
      "outputs": []
    },
    {
      "cell_type": "code",
      "source": [
        "made_room_count\n",
        "made_room_count.info()"
      ],
      "metadata": {
        "id": "2qYiaSYOCJii"
      },
      "execution_count": null,
      "outputs": []
    },
    {
      "cell_type": "markdown",
      "source": [
        "#### 4.6 Length of the sent message \n",
        "\n",
        "  ***made_message_length***\n",
        "\n",
        "- average values of message_length column \n",
        "- and the user_type should be Fan \n",
        "- only activated users \n",
        "\n",
        "\n",
        "\n",
        "---\n",
        "\n",
        "\n",
        "\n",
        "\n",
        "\n",
        "\n",
        "- message_length 의 평균\n",
        "- 중에 유저 타입이 팬인 것 \n",
        "- 채팅방이나 닉네임이 없다면 제외"
      ],
      "metadata": {
        "id": "NbYhrD4b15Tu"
      }
    },
    {
      "cell_type": "code",
      "source": [
        "%%bigquery made_message_length --project  add project name \n",
        "\n",
        "SELECT  chat_room_id, user_nickname, ROUND(AVG(message_length),0) AS made_message_length\n",
        "\n",
        "FROM add project_name\n",
        "\n",
        "WHERE (time BETWEEN '2023-03-01 00:00:00' AND '2023-03-31 23:59:59')\n",
        "AND (user_nickname !='')\n",
        "AND (chat_room_id !='')\n",
        "AND (user_nickname != chat_celeb_nickname)\n",
        "\n",
        "GROUP BY chat_room_id, user_nickname"
      ],
      "metadata": {
        "id": "3J7DJtWLnory"
      },
      "execution_count": null,
      "outputs": []
    },
    {
      "cell_type": "code",
      "source": [
        "made_message_length"
      ],
      "metadata": {
        "id": "ChSTVD0tCyKg"
      },
      "execution_count": null,
      "outputs": []
    },
    {
      "cell_type": "markdown",
      "source": [
        "#### 4.8. Access time  ***made_access_time***\n",
        "\n",
        "\n",
        "- exclude if celeb has spent time in their own room \n",
        "\n",
        "\n",
        "\n",
        "\n",
        "---\n",
        "\n",
        "\n",
        "\n",
        "\n",
        "\n",
        "- 셀럽이 자기 채팅방에서 보낸 경우는 제외\n",
        "\n",
        "\n",
        "\n",
        "\n"
      ],
      "metadata": {
        "id": "CP2ktwP98uGj"
      }
    },
    {
      "cell_type": "code",
      "source": [
        "%%bigquery made_access_time --project  add project name \n",
        "\n",
        "select chat_room_id, user_nickname,time, chat_celeb_nickname\n",
        "\n",
        "FROM add project_name\n",
        "\n",
        "WHERE (time BETWEEN '2023-03-01 00:00:00' AND '2023-03-31 23:59:59')\n",
        "AND (user_nickname != chat_celeb_nickname)\n",
        "AND (user_nickname!= '') \n",
        "\n",
        "ORDER BY chat_room_id, user_nickname, time, chat_celeb_nickname"
      ],
      "metadata": {
        "id": "lADYZFI580K0"
      },
      "execution_count": null,
      "outputs": []
    },
    {
      "cell_type": "code",
      "source": [
        "from datetime import timedelta\n",
        "\n",
        "made_access_time['remain_test'] = timedelta(days=0,hours=0,minutes=0,seconds=0)\n",
        "made_access_time"
      ],
      "metadata": {
        "id": "bVjDlxMDKg6y"
      },
      "execution_count": null,
      "outputs": []
    },
    {
      "cell_type": "code",
      "source": [
        "# if there's no other sign in 2 min, think of it as they aren't using the app\n",
        "# add every 2 minuite as using the app once\n",
        "\n",
        "for row, val in made_access_time['user_nickname'].items():\n",
        "\n",
        "  try:\n",
        "    if made_access_time['user_nickname'][row] == made_access_time['user_nickname'][row+1]:\n",
        "      timediff = made_access_time['time'][row+1]- made_access_time['time'][row] \n",
        "\n",
        "      if timediff < timedelta(days=0,hours=0,minutes=2,seconds=0):\n",
        "         made_access_time['remain_test'][row] = timediff\n",
        "\n",
        "      else:\n",
        "        made_access_time['remain_test'][row] = timedelta(days=0,hours=0,minutes=2,seconds=0)\n",
        "\n",
        "    else:\n",
        "      made_access_time['remain_test'][row] = timedelta(days=0,hours=0,minutes=2,seconds=0)\n",
        "\n",
        "  except:\n",
        "     pass"
      ],
      "metadata": {
        "id": "v5-alH_2AdFE"
      },
      "execution_count": null,
      "outputs": []
    },
    {
      "cell_type": "code",
      "source": [
        "made_access_time"
      ],
      "metadata": {
        "id": "DEIfiOB9auMH"
      },
      "execution_count": null,
      "outputs": []
    },
    {
      "cell_type": "code",
      "source": [
        "import numpy as np\n",
        "\n",
        "made_access_time = made_access_time.groupby('user_nickname').agg({'remain_test': np.sum})"
      ],
      "metadata": {
        "id": "HYFYeutbJGLW"
      },
      "execution_count": null,
      "outputs": []
    },
    {
      "cell_type": "code",
      "source": [
        "made_access_time = made_access_time.reset_index()\n",
        "made_access_time"
      ],
      "metadata": {
        "id": "oA94AOAz_OQl"
      },
      "execution_count": null,
      "outputs": []
    },
    {
      "cell_type": "markdown",
      "source": [
        "### Final merge\n",
        "\n",
        "- The most important dataframe is chat_host here.-> if null, no reason to analyze -> drop \n",
        "\n",
        "- left join in order\n",
        "\n",
        "\n",
        "\n",
        "---\n",
        "\n",
        "\n",
        "\n",
        "* 여기서 가장 중요한 데이터프레임은 채팅방 주인을 나타내는 chat_host -> 없다면 분석 불가능\n",
        "* chat_host 부터 순서대로 left join 시켜나감\n",
        "*  made_room_count, made_text_total, made_like_total, made_message_length , made_sticker_total,made_sticker_freq,"
      ],
      "metadata": {
        "id": "ayOVrXUCKCig"
      }
    },
    {
      "cell_type": "code",
      "source": [
        "import pandas as pd\n",
        "\n",
        "merge1 = pd.merge(chat_host, made_message_length , how='outer', on='chat_room_id')\n",
        "merge1"
      ],
      "metadata": {
        "id": "YhnmECJJKFC-"
      },
      "execution_count": null,
      "outputs": []
    },
    {
      "cell_type": "code",
      "source": [
        "merge1.shape"
      ],
      "metadata": {
        "id": "XizZ1mzzVnyv"
      },
      "execution_count": null,
      "outputs": []
    },
    {
      "cell_type": "code",
      "source": [
        "print(chat_host.shape)\n",
        "print(made_message_length.shape)\n",
        "print(merge1.shape)\n",
        "print(merge1.info())"
      ],
      "metadata": {
        "id": "1zyDWrBmHLJe"
      },
      "execution_count": null,
      "outputs": []
    },
    {
      "cell_type": "code",
      "source": [
        "merge2 = pd.merge(merge1, made_text_total, how='outer', on=['chat_room_id','user_nickname'])\n",
        "merge2"
      ],
      "metadata": {
        "id": "RjsOlcyrKFE8"
      },
      "execution_count": null,
      "outputs": []
    },
    {
      "cell_type": "code",
      "source": [
        "print(merge2.shape)\n",
        "print(merge2.info())"
      ],
      "metadata": {
        "id": "GKDqrYpFMDBT"
      },
      "execution_count": null,
      "outputs": []
    },
    {
      "cell_type": "code",
      "source": [
        "merge3 = pd.merge(merge2, made_like_total, how='outer', on = ['chat_room_id','user_nickname'])\n",
        "merge3"
      ],
      "metadata": {
        "id": "1VxzoDriKFG8"
      },
      "execution_count": null,
      "outputs": []
    },
    {
      "cell_type": "code",
      "source": [
        "print(merge3.shape)\n",
        "print(merge3.info())"
      ],
      "metadata": {
        "id": "8CZhsdQnQsp6"
      },
      "execution_count": null,
      "outputs": []
    },
    {
      "cell_type": "code",
      "source": [
        "merge4 = pd.merge(merge3, made_message_length, how='outer', on = ['chat_room_id','user_nickname'] )\n",
        "merge4"
      ],
      "metadata": {
        "id": "gs8DJKjJeABq"
      },
      "execution_count": null,
      "outputs": []
    },
    {
      "cell_type": "code",
      "source": [
        "print(merge4.shape)\n",
        "print(merge4.info())"
      ],
      "metadata": {
        "id": "oUoS3z-IL2oc"
      },
      "execution_count": null,
      "outputs": []
    },
    {
      "cell_type": "code",
      "source": [
        "merge5 = pd.merge(merge4, made_sticker_total, how='outer', on = ['chat_room_id','user_nickname'] )\n",
        "merge5"
      ],
      "metadata": {
        "id": "sAi5xac4MEDE"
      },
      "execution_count": null,
      "outputs": []
    },
    {
      "cell_type": "code",
      "source": [
        "print(merge5.shape)\n",
        "print(merge5.info())"
      ],
      "metadata": {
        "id": "v5lkqyOjMEFY"
      },
      "execution_count": null,
      "outputs": []
    },
    {
      "cell_type": "code",
      "source": [
        "merge6 = pd.merge(merge5, made_sticker_freq, how='outer', on = ['chat_room_id','user_nickname'] )\n",
        "merge6"
      ],
      "metadata": {
        "id": "21PEuDZrMTp4"
      },
      "execution_count": null,
      "outputs": []
    },
    {
      "cell_type": "code",
      "source": [
        "print(merge6.shape)\n",
        "print(merge6.info())"
      ],
      "metadata": {
        "id": "i01uCfv4L8XY"
      },
      "execution_count": null,
      "outputs": []
    },
    {
      "cell_type": "code",
      "source": [
        "del merge6['product_price_string_x']\n",
        "del merge6['product_price_x']\n",
        "del merge6['product_price_y']\n",
        "del merge6['product_price_string_y']"
      ],
      "metadata": {
        "id": "Nh6RxKBzM6K8"
      },
      "execution_count": null,
      "outputs": []
    },
    {
      "cell_type": "code",
      "source": [
        "merge7 = pd.merge(merge6, made_room_count, how='outer', on = ['chat_room_id','user_nickname'] )\n",
        "merge7"
      ],
      "metadata": {
        "id": "ko8EQ3aURhFR"
      },
      "execution_count": null,
      "outputs": []
    },
    {
      "cell_type": "code",
      "source": [
        "merge8 = pd.merge(merge7, made_access_time, how='outer', on = ['user_nickname'] )\n",
        "\n",
        "merge8"
      ],
      "metadata": {
        "id": "gzYDsu75XPvA"
      },
      "execution_count": null,
      "outputs": []
    },
    {
      "cell_type": "code",
      "source": [
        "print(merge8.shape)\n",
        "print(merge8.info())"
      ],
      "metadata": {
        "id": "DSDmCglgRhLU"
      },
      "execution_count": null,
      "outputs": []
    },
    {
      "cell_type": "code",
      "source": [
        "#Fillna\n",
        "\n",
        "merge8['made_message_length_x'] = merge8['made_message_length_x'].fillna(0)\n",
        "merge8['made_text_total'] = merge8['made_text_total'].fillna(0)\n",
        "merge8['Liked'] = merge8['Liked'].fillna(0)\n",
        "merge8['made_sticker_total'] = merge8['made_sticker_total'].fillna(0)\n",
        "merge8['made_sticker_freq'] = merge8['made_sticker_freq'].fillna(0)\n",
        "merge8['made_room_count'] = merge8['made_room_count'].fillna(0)"
      ],
      "metadata": {
        "id": "hzuR5VuTL8cw"
      },
      "execution_count": null,
      "outputs": []
    },
    {
      "cell_type": "code",
      "source": [
        "merge8.head()"
      ],
      "metadata": {
        "id": "I_ziGy6COF_a"
      },
      "execution_count": null,
      "outputs": []
    },
    {
      "cell_type": "code",
      "source": [
        "merge8.columns"
      ],
      "metadata": {
        "id": "btzk7AhQWzb1"
      },
      "execution_count": null,
      "outputs": []
    },
    {
      "cell_type": "code",
      "source": [
        "del merge8['made_message_length_y']"
      ],
      "metadata": {
        "id": "f2yjCXhS3iOP"
      },
      "execution_count": null,
      "outputs": []
    },
    {
      "cell_type": "code",
      "source": [
        "merge8['remain_test'] = merge8['remain_test'].dt.seconds\n",
        "merge8['remain_test'] = merge8['remain_test'].fillna(0)"
      ],
      "metadata": {
        "id": "DvjQyvGH4HZl"
      },
      "execution_count": null,
      "outputs": []
    },
    {
      "cell_type": "code",
      "source": [
        "merge8.head()"
      ],
      "metadata": {
        "id": "kkke5dXs38Id"
      },
      "execution_count": null,
      "outputs": []
    },
    {
      "cell_type": "code",
      "source": [
        "merge8.info()"
      ],
      "metadata": {
        "id": "N1s-qQJ64qE8"
      },
      "execution_count": null,
      "outputs": []
    },
    {
      "cell_type": "markdown",
      "source": [
        "#5. Preprocessing"
      ],
      "metadata": {
        "id": "lH5QlSm2GHuX"
      }
    },
    {
      "cell_type": "code",
      "source": [
        "# find duplicated data\n",
        "\n",
        "dup = merge8.duplicated(['chat_room_id','user_nickname'])\n",
        "print(dup.value_counts())\n",
        "\n",
        "#remove\n",
        "merge8.drop_duplicates(subset=['chat_room_id','user_nickname','remain_test'],ignore_index=True, inplace = True)\n",
        "dup = merge8.duplicated(['chat_room_id','user_nickname'])\n",
        "print(dup.value_counts())\n",
        "\n",
        "#Fillna\n",
        "merge8[['made_message_length_x', 'made_text_total', 'Liked', 'made_sticker_total', 'made_sticker_freq','made_room_count']].fillna(0, inplace = True)\n",
        "merge_without_log = merge8[['chat_room_id', 'chat_celeb_nickname', 'user_nickname','made_message_length_x', 'made_text_total', 'Liked', 'made_sticker_total', 'made_sticker_freq','made_room_count', 'remain_test']]\n",
        "\n",
        "print(merge_without_log.shape)\n",
        "merge_without_log"
      ],
      "metadata": {
        "id": "xBhccoObcSR8"
      },
      "execution_count": null,
      "outputs": []
    },
    {
      "cell_type": "code",
      "source": [
        "merge_without_log.shape"
      ],
      "metadata": {
        "id": "jCGXJqDerPWf"
      },
      "execution_count": null,
      "outputs": []
    },
    {
      "cell_type": "code",
      "source": [
        "# preprocessing of acess time\n",
        "#shoud update later if data tracking issue solves\n",
        "\n",
        "\n",
        "def divide_time(df):\n",
        "  \n",
        "  # dict of user name and room number that they are joining\n",
        "  user_dict = user_room_count.set_index('user_nickname').to_dict()['room_num']\n",
        "\n",
        "  # make room_num column which user_nickname and the key value are same\n",
        "  df['room_num'] = df['user_nickname'].map(user_dict)\n",
        "\n",
        "  # Divide \"remain_test\" by \"room_num\"\n",
        "  df['remain_test'] = df['remain_test'] / df['room_num']\n",
        "\n",
        "  return df\n",
        "\n",
        "\n",
        "merge_without_log = divide_time(merge_without_log)\n",
        "\n",
        "merge_without_log"
      ],
      "metadata": {
        "id": "w0o9mUVTNcUL"
      },
      "execution_count": null,
      "outputs": []
    },
    {
      "cell_type": "code",
      "source": [
        "merge_without_log['made_text_total'] = merge_without_log['made_text_total'].astype(float)\n",
        "merge_without_log['Liked'] = merge_without_log['Liked'].astype(float)\n",
        "merge_without_log['made_sticker_total'] = merge_without_log['made_sticker_total'].astype(float)\n",
        "merge_without_log['made_sticker_freq'] = merge_without_log['made_sticker_freq'].astype(float)\n",
        "\n",
        "merge_without_log.info()"
      ],
      "metadata": {
        "id": "bOINFRU1IqDo"
      },
      "execution_count": null,
      "outputs": []
    },
    {
      "cell_type": "markdown",
      "source": [
        "#### If every score colum is Nan or Zero -> unactivated users -> drop "
      ],
      "metadata": {
        "id": "VlqfMSnQtDOu"
      }
    },
    {
      "cell_type": "code",
      "source": [
        "# make sclaer and apply seperately by every colum \n",
        "# data arrangemet error using scaler \n",
        "\n",
        "\n",
        "import pandas as pd\n",
        "import numpy as np\n",
        "\n",
        "from sklearn.preprocessing import MaxAbsScaler\n",
        "from sklearn.preprocessing import StandardScaler\n",
        "from sklearn.preprocessing import RobustScaler\n",
        "\n",
        "\n",
        "\n",
        "def scale_by_celeb(df, target_col, groupby_col):\n",
        "\n",
        "    df['scaled'] = df.groupby(groupby_col)[target_col].transform(lambda x: ((x - x.min()) / (x.max() - x.min())))\n",
        "    \n",
        "    return df['scaled']\n",
        "\n",
        "\n",
        "\n",
        "col_list = ['made_message_length_x', 'made_text_total', 'Liked',\n",
        "       'made_sticker_total', 'made_sticker_freq', 'remain_test']\n",
        "\n",
        "\n",
        "\n",
        "for i in col_list:\n",
        "  merge_without_log[i + '_scaled'] = scale_by_celeb(merge_without_log, i, 'chat_celeb_nickname')\n",
        "\n",
        "\n",
        "merge_without_log"
      ],
      "metadata": {
        "id": "c4f0me1uB6ft"
      },
      "execution_count": null,
      "outputs": []
    },
    {
      "cell_type": "code",
      "source": [
        "#drop unusing column\n",
        "merge_without_log.fillna(0, inplace = True)\n",
        "del merge_without_log['scaled']\n",
        "\n",
        "# make the score column as out of 100 \n",
        "col_list = ['made_message_length_x_scaled',\n",
        "       'made_text_total_scaled', 'Liked_scaled', 'made_sticker_total_scaled',\n",
        "       'made_sticker_freq_scaled', 'remain_test_scaled']\n",
        "\n",
        "for i in col_list:\n",
        "  merge_without_log[i] = round((round(merge_without_log[i],3) * 100),0)\n",
        "\n",
        "merge_without_log"
      ],
      "metadata": {
        "id": "2QJFJIapCu4F"
      },
      "execution_count": null,
      "outputs": []
    },
    {
      "cell_type": "markdown",
      "source": [
        "#6. Final "
      ],
      "metadata": {
        "id": "t0Lv0RbpGYBu"
      }
    },
    {
      "cell_type": "code",
      "source": [
        "final_score = merge_without_log"
      ],
      "metadata": {
        "id": "_QXlIfRkGicC"
      },
      "execution_count": null,
      "outputs": []
    },
    {
      "cell_type": "code",
      "source": [
        "final_score.columns"
      ],
      "metadata": {
        "id": "MwR5qfn-GieL"
      },
      "execution_count": null,
      "outputs": []
    },
    {
      "cell_type": "code",
      "source": [
        "#As order in Celeb's strong feeling against Fan's action , weight each column \n",
        "\n",
        "#total score represnts 150 as perfect score\n",
        "\n",
        "final_score['total'] = final_score['made_sticker_total_scaled']*0.5 + final_score['made_text_total_scaled']*0.4  + final_score['Liked_scaled']*0.3 + final_score['remain_test_scaled']*0.2 + final_score['made_message_length_x_scaled']*0.1"
      ],
      "metadata": {
        "id": "T7z0kms6Gigs"
      },
      "execution_count": null,
      "outputs": []
    },
    {
      "cell_type": "code",
      "source": [
        "final_score.head(1)"
      ],
      "metadata": {
        "id": "VsP-k33gGiim"
      },
      "execution_count": null,
      "outputs": []
    },
    {
      "cell_type": "code",
      "source": [
        "#Check the distibution of score colum \n",
        "#Fans also tend to have extreme distribution based on loyalty within the app\n",
        "import matplotlib.pyplot as plt\n",
        "\n",
        "plt.hist(final_score.total)"
      ],
      "metadata": {
        "colab": {
          "base_uri": "https://localhost:8080/",
          "height": 523
        },
        "id": "5RARoSKoGikz",
        "outputId": "e6a57700-4875-4f19-bb69-48a7d07c238e"
      },
      "execution_count": null,
      "outputs": [
        {
          "output_type": "execute_result",
          "data": {
            "text/plain": [
              "(array([9.793e+03, 1.218e+03, 5.390e+02, 3.760e+02, 2.780e+02, 9.900e+01,\n",
              "        7.100e+01, 3.500e+01, 1.000e+01, 4.000e+00]),\n",
              " array([  0.  ,  14.05,  28.1 ,  42.15,  56.2 ,  70.25,  84.3 ,  98.35,\n",
              "        112.4 , 126.45, 140.5 ]),\n",
              " <BarContainer object of 10 artists>)"
            ]
          },
          "metadata": {},
          "execution_count": 94
        },
        {
          "output_type": "display_data",
          "data": {
            "text/plain": [
              "<Figure size 640x480 with 1 Axes>"
            ],
            "image/png": "[encoded data removed]"
          },
          "metadata": {}
        }
      ]
    },
    {
      "cell_type": "code",
      "source": [
        "#Ranking of fans into three categories: steamed fans, prospective steamed fans, and sleeping fans\n",
        "#Based on the total score, fans who exceed the average are classified as real fans, fans who are not active are classified as preliminary real fans, and fans who are not active at all are classified as sleeping fans\n",
        "\n",
        "mean = final_score['total'].mean()\n",
        "\n",
        "def allocate_groups(df):\n",
        "\n",
        "    df_grouped = df.groupby(['chat_celeb_nickname', 'user_nickname']).sum().reset_index()\n",
        "    \n",
        "    df_grouped['allocation'] = df_grouped['total'].apply(lambda x: '찐팬' if x > mean else '예비찐팬') \n",
        "\n",
        "    return df_grouped\n",
        "\n",
        "final_score = allocate_groups(final_score)"
      ],
      "metadata": {
        "id": "Zcjnw_amklTU"
      },
      "execution_count": null,
      "outputs": []
    },
    {
      "cell_type": "code",
      "source": [
        "final_score['allocation'].value_counts()"
      ],
      "metadata": {
        "id": "73xCNG2olm3a"
      },
      "execution_count": null,
      "outputs": []
    },
    {
      "cell_type": "code",
      "source": [
        "final_score_ = final_score.copy()\n",
        "\n",
        "final_score_ = final_score_.loc[:,['chat_celeb_nickname', 'user_nickname','made_message_length_x_scaled',\n",
        "       'made_text_total_scaled', 'Liked_scaled', 'made_sticker_total_scaled',\n",
        "       'made_sticker_freq_scaled', 'remain_test_scaled', 'total', 'allocation'] ]"
      ],
      "metadata": {
        "id": "-BNPIPSJRE8g"
      },
      "execution_count": null,
      "outputs": []
    },
    {
      "cell_type": "code",
      "source": [
        "#quick check \n",
        "\n",
        "wi = final_score_[final_score_['chat_celeb_nickname'] =='위칭']\n",
        "wi"
      ],
      "metadata": {
        "id": "W8gud0az9iUy"
      },
      "execution_count": null,
      "outputs": []
    },
    {
      "cell_type": "code",
      "source": [
        "#quick check\n",
        "wang = final_score_[final_score_['chat_celeb_nickname'] =='왕군']\n",
        "wang "
      ],
      "metadata": {
        "id": "YrJ9K8BrQz-E"
      },
      "execution_count": null,
      "outputs": []
    },
    {
      "cell_type": "code",
      "source": [
        "#churned users \n",
        "#Fans who were active 3 months ago and who are not active right now\n",
        "\n",
        "%%bigquery inactive_fans --project add project name\n",
        "\n",
        "SELECT \n",
        "  user_nickname, \n",
        "  chat_celeb_nickname,\n",
        "  COUNT(DISTINCT IF(time BETWEEN '2022-12-01 00:00:00' AND '2023-03-31 23:59:59', chat_room_id, NULL)) AS active_rooms_last_3_months,\n",
        "  COUNT(DISTINCT IF(time BETWEEN '2023-03-01 00:00:00' AND '2023-03-31 23:59:59', chat_room_id, NULL)) AS active_rooms_current_month\n",
        "FROM \n",
        "  add project_name\n",
        "WHERE \n",
        "  (chat_celeb_nickname!='') AND \n",
        "  (user_nickname != \"\") AND\n",
        "\n",
        "  time BETWEEN '2022-12-01 00:00:00' AND '2023-03-31 23:59:59'\n",
        "GROUP BY \n",
        "  user_nickname, \n",
        "  chat_celeb_nickname\n",
        "HAVING \n",
        "  active_rooms_last_3_months > 0 AND \n",
        "  active_rooms_current_month = 0\n",
        "ORDER BY \n",
        "  chat_celeb_nickname, \n",
        "  user_nickname\n"
      ],
      "metadata": {
        "id": "V-YPQT5T0QJy"
      },
      "execution_count": null,
      "outputs": []
    },
    {
      "cell_type": "code",
      "source": [
        "final_score.head(1)"
      ],
      "metadata": {
        "id": "3jPKz1F00j1-"
      },
      "execution_count": null,
      "outputs": []
    },
    {
      "cell_type": "code",
      "source": [
        "inactive_fans['allocation'] = '잠든팬'\n",
        "inactive_fans = inactive_fans.loc[:,['chat_celeb_nickname','user_nickname', 'allocation']]\n",
        "inactive_fans.head(1)"
      ],
      "metadata": {
        "id": "eowFKPRcyRQr"
      },
      "execution_count": null,
      "outputs": []
    },
    {
      "cell_type": "code",
      "source": [
        "result = pd.concat([final_score, inactive_fans], axis=0) \n",
        "\n",
        "#quick check\n",
        "result[result['chat_celeb_nickname'] =='왕군']"
      ],
      "metadata": {
        "id": "Zy1aHxIop_-0"
      },
      "execution_count": null,
      "outputs": []
    },
    {
      "cell_type": "code",
      "source": [
        "result.to_csv('./Fancare_report_page3.csv')"
      ],
      "metadata": {
        "id": "xxjeB6sPGiz5"
      },
      "execution_count": null,
      "outputs": []
    },
    {
      "cell_type": "code",
      "source": [
        "from google.colab import drive\n",
        "drive.mount('/content/drive')"
      ],
      "metadata": {
        "colab": {
          "base_uri": "https://localhost:8080/"
        },
        "id": "axiavQYq3Lg0",
        "outputId": "f9c7f3aa-4669-4804-9c2f-2801214461c8"
      },
      "execution_count": null,
      "outputs": [
        {
          "output_type": "stream",
          "name": "stdout",
          "text": [
            "Mounted at /content/drive\n"
          ]
        }
      ]
    }
  ],
  "metadata": {
    "colab": {
      "cell_execution_strategy": "setup",
      "provenance": []
    },
    "kernelspec": {
      "display_name": "Python 3",
      "name": "python3"
    },
    "language_info": {
      "name": "python"
    },
    "widgets": {
      "application/vnd.jupyter.widget-state+json": {
        "b5e7277272b0463ba10fe10b5d0f4729": {
          "model_module": "@jupyter-widgets/controls",
          "model_name": "HBoxModel",
          "model_module_version": "1.5.0",
          "state": {
            "_dom_classes": [],
            "_model_module": "@jupyter-widgets/controls",
            "_model_module_version": "1.5.0",
            "_model_name": "HBoxModel",
            "_view_count": null,
            "_view_module": "@jupyter-widgets/controls",
            "_view_module_version": "1.5.0",
            "_view_name": "HBoxView",
            "box_style": "",
            "children": [
              "IPY_MODEL_933c531f45d8437aba78b3c7b42cfe41",
              "IPY_MODEL_11a2aef2ac064830b465fe0823039eeb",
              "IPY_MODEL_3a52cac8b9a746d4974be435db7f12d2"
            ],
            "layout": "IPY_MODEL_ff176af2708d49c2b363585519edb1a3"
          }
        },
        "933c531f45d8437aba78b3c7b42cfe41": {
          "model_module": "@jupyter-widgets/controls",
          "model_name": "HTMLModel",
          "model_module_version": "1.5.0",
          "state": {
            "_dom_classes": [],
            "_model_module": "@jupyter-widgets/controls",
            "_model_module_version": "1.5.0",
            "_model_name": "HTMLModel",
            "_view_count": null,
            "_view_module": "@jupyter-widgets/controls",
            "_view_module_version": "1.5.0",
            "_view_name": "HTMLView",
            "description": "",
            "description_tooltip": null,
            "layout": "IPY_MODEL_a56cdf1752ce4191b13e0a1fb050f32b",
            "placeholder": "​",
            "style": "IPY_MODEL_0e60c3ccd9fe42efa4846de5a796db95",
            "value": "Job ID 89e7843b-9b72-4a60-976b-73a7f5d6761f successfully executed: 100%"
          }
        },
        "11a2aef2ac064830b465fe0823039eeb": {
          "model_module": "@jupyter-widgets/controls",
          "model_name": "FloatProgressModel",
          "model_module_version": "1.5.0",
          "state": {
            "_dom_classes": [],
            "_model_module": "@jupyter-widgets/controls",
            "_model_module_version": "1.5.0",
            "_model_name": "FloatProgressModel",
            "_view_count": null,
            "_view_module": "@jupyter-widgets/controls",
            "_view_module_version": "1.5.0",
            "_view_name": "ProgressView",
            "bar_style": "success",
            "description": "",
            "description_tooltip": null,
            "layout": "IPY_MODEL_e41ab2ea86f24bc9af6a319b202325d6",
            "max": 1,
            "min": 0,
            "orientation": "horizontal",
            "style": "IPY_MODEL_3009a5f9ecb0489e8e5b6974598ef1a1",
            "value": 1
          }
        },
        "3a52cac8b9a746d4974be435db7f12d2": {
          "model_module": "@jupyter-widgets/controls",
          "model_name": "HTMLModel",
          "model_module_version": "1.5.0",
          "state": {
            "_dom_classes": [],
            "_model_module": "@jupyter-widgets/controls",
            "_model_module_version": "1.5.0",
            "_model_name": "HTMLModel",
            "_view_count": null,
            "_view_module": "@jupyter-widgets/controls",
            "_view_module_version": "1.5.0",
            "_view_name": "HTMLView",
            "description": "",
            "description_tooltip": null,
            "layout": "IPY_MODEL_dcaf62612ba44645ac27005c1eb503fe",
            "placeholder": "​",
            "style": "IPY_MODEL_8e1b4ff48e3c42e4bc29b0aebb006007",
            "value": ""
          }
        },
        "ff176af2708d49c2b363585519edb1a3": {
          "model_module": "@jupyter-widgets/base",
          "model_name": "LayoutModel",
          "model_module_version": "1.2.0",
          "state": {
            "_model_module": "@jupyter-widgets/base",
            "_model_module_version": "1.2.0",
            "_model_name": "LayoutModel",
            "_view_count": null,
            "_view_module": "@jupyter-widgets/base",
            "_view_module_version": "1.2.0",
            "_view_name": "LayoutView",
            "align_content": null,
            "align_items": null,
            "align_self": null,
            "border": null,
            "bottom": null,
            "display": null,
            "flex": null,
            "flex_flow": null,
            "grid_area": null,
            "grid_auto_columns": null,
            "grid_auto_flow": null,
            "grid_auto_rows": null,
            "grid_column": null,
            "grid_gap": null,
            "grid_row": null,
            "grid_template_areas": null,
            "grid_template_columns": null,
            "grid_template_rows": null,
            "height": null,
            "justify_content": null,
            "justify_items": null,
            "left": null,
            "margin": null,
            "max_height": null,
            "max_width": null,
            "min_height": null,
            "min_width": null,
            "object_fit": null,
            "object_position": null,
            "order": null,
            "overflow": null,
            "overflow_x": null,
            "overflow_y": null,
            "padding": null,
            "right": null,
            "top": null,
            "visibility": null,
            "width": null
          }
        },
        "a56cdf1752ce4191b13e0a1fb050f32b": {
          "model_module": "@jupyter-widgets/base",
          "model_name": "LayoutModel",
          "model_module_version": "1.2.0",
          "state": {
            "_model_module": "@jupyter-widgets/base",
            "_model_module_version": "1.2.0",
            "_model_name": "LayoutModel",
            "_view_count": null,
            "_view_module": "@jupyter-widgets/base",
            "_view_module_version": "1.2.0",
            "_view_name": "LayoutView",
            "align_content": null,
            "align_items": null,
            "align_self": null,
            "border": null,
            "bottom": null,
            "display": null,
            "flex": null,
            "flex_flow": null,
            "grid_area": null,
            "grid_auto_columns": null,
            "grid_auto_flow": null,
            "grid_auto_rows": null,
            "grid_column": null,
            "grid_gap": null,
            "grid_row": null,
            "grid_template_areas": null,
            "grid_template_columns": null,
            "grid_template_rows": null,
            "height": null,
            "justify_content": null,
            "justify_items": null,
            "left": null,
            "margin": null,
            "max_height": null,
            "max_width": null,
            "min_height": null,
            "min_width": null,
            "object_fit": null,
            "object_position": null,
            "order": null,
            "overflow": null,
            "overflow_x": null,
            "overflow_y": null,
            "padding": null,
            "right": null,
            "top": null,
            "visibility": null,
            "width": null
          }
        },
        "0e60c3ccd9fe42efa4846de5a796db95": {
          "model_module": "@jupyter-widgets/controls",
          "model_name": "DescriptionStyleModel",
          "model_module_version": "1.5.0",
          "state": {
            "_model_module": "@jupyter-widgets/controls",
            "_model_module_version": "1.5.0",
            "_model_name": "DescriptionStyleModel",
            "_view_count": null,
            "_view_module": "@jupyter-widgets/base",
            "_view_module_version": "1.2.0",
            "_view_name": "StyleView",
            "description_width": ""
          }
        },
        "e41ab2ea86f24bc9af6a319b202325d6": {
          "model_module": "@jupyter-widgets/base",
          "model_name": "LayoutModel",
          "model_module_version": "1.2.0",
          "state": {
            "_model_module": "@jupyter-widgets/base",
            "_model_module_version": "1.2.0",
            "_model_name": "LayoutModel",
            "_view_count": null,
            "_view_module": "@jupyter-widgets/base",
            "_view_module_version": "1.2.0",
            "_view_name": "LayoutView",
            "align_content": null,
            "align_items": null,
            "align_self": null,
            "border": null,
            "bottom": null,
            "display": null,
            "flex": null,
            "flex_flow": null,
            "grid_area": null,
            "grid_auto_columns": null,
            "grid_auto_flow": null,
            "grid_auto_rows": null,
            "grid_column": null,
            "grid_gap": null,
            "grid_row": null,
            "grid_template_areas": null,
            "grid_template_columns": null,
            "grid_template_rows": null,
            "height": null,
            "justify_content": null,
            "justify_items": null,
            "left": null,
            "margin": null,
            "max_height": null,
            "max_width": null,
            "min_height": null,
            "min_width": null,
            "object_fit": null,
            "object_position": null,
            "order": null,
            "overflow": null,
            "overflow_x": null,
            "overflow_y": null,
            "padding": null,
            "right": null,
            "top": null,
            "visibility": null,
            "width": null
          }
        },
        "3009a5f9ecb0489e8e5b6974598ef1a1": {
          "model_module": "@jupyter-widgets/controls",
          "model_name": "ProgressStyleModel",
          "model_module_version": "1.5.0",
          "state": {
            "_model_module": "@jupyter-widgets/controls",
            "_model_module_version": "1.5.0",
            "_model_name": "ProgressStyleModel",
            "_view_count": null,
            "_view_module": "@jupyter-widgets/base",
            "_view_module_version": "1.2.0",
            "_view_name": "StyleView",
            "bar_color": null,
            "description_width": ""
          }
        },
        "dcaf62612ba44645ac27005c1eb503fe": {
          "model_module": "@jupyter-widgets/base",
          "model_name": "LayoutModel",
          "model_module_version": "1.2.0",
          "state": {
            "_model_module": "@jupyter-widgets/base",
            "_model_module_version": "1.2.0",
            "_model_name": "LayoutModel",
            "_view_count": null,
            "_view_module": "@jupyter-widgets/base",
            "_view_module_version": "1.2.0",
            "_view_name": "LayoutView",
            "align_content": null,
            "align_items": null,
            "align_self": null,
            "border": null,
            "bottom": null,
            "display": null,
            "flex": null,
            "flex_flow": null,
            "grid_area": null,
            "grid_auto_columns": null,
            "grid_auto_flow": null,
            "grid_auto_rows": null,
            "grid_column": null,
            "grid_gap": null,
            "grid_row": null,
            "grid_template_areas": null,
            "grid_template_columns": null,
            "grid_template_rows": null,
            "height": null,
            "justify_content": null,
            "justify_items": null,
            "left": null,
            "margin": null,
            "max_height": null,
            "max_width": null,
            "min_height": null,
            "min_width": null,
            "object_fit": null,
            "object_position": null,
            "order": null,
            "overflow": null,
            "overflow_x": null,
            "overflow_y": null,
            "padding": null,
            "right": null,
            "top": null,
            "visibility": null,
            "width": null
          }
        },
        "8e1b4ff48e3c42e4bc29b0aebb006007": {
          "model_module": "@jupyter-widgets/controls",
          "model_name": "DescriptionStyleModel",
          "model_module_version": "1.5.0",
          "state": {
            "_model_module": "@jupyter-widgets/controls",
            "_model_module_version": "1.5.0",
            "_model_name": "DescriptionStyleModel",
            "_view_count": null,
            "_view_module": "@jupyter-widgets/base",
            "_view_module_version": "1.2.0",
            "_view_name": "StyleView",
            "description_width": ""
          }
        },
        "5cea23f73ac34bb88785b017822012e8": {
          "model_module": "@jupyter-widgets/controls",
          "model_name": "HBoxModel",
          "model_module_version": "1.5.0",
          "state": {
            "_dom_classes": [],
            "_model_module": "@jupyter-widgets/controls",
            "_model_module_version": "1.5.0",
            "_model_name": "HBoxModel",
            "_view_count": null,
            "_view_module": "@jupyter-widgets/controls",
            "_view_module_version": "1.5.0",
            "_view_name": "HBoxView",
            "box_style": "",
            "children": [
              "IPY_MODEL_10972a1177b54d8185b2a59334223ae4",
              "IPY_MODEL_2184bc056460430594a95cf147d97f3b",
              "IPY_MODEL_88595afec247481da2b06c654825b397"
            ],
            "layout": "IPY_MODEL_d1efd4847756469b8f22c04ef95f2d40"
          }
        },
        "10972a1177b54d8185b2a59334223ae4": {
          "model_module": "@jupyter-widgets/controls",
          "model_name": "HTMLModel",
          "model_module_version": "1.5.0",
          "state": {
            "_dom_classes": [],
            "_model_module": "@jupyter-widgets/controls",
            "_model_module_version": "1.5.0",
            "_model_name": "HTMLModel",
            "_view_count": null,
            "_view_module": "@jupyter-widgets/controls",
            "_view_module_version": "1.5.0",
            "_view_name": "HTMLView",
            "description": "",
            "description_tooltip": null,
            "layout": "IPY_MODEL_4bf4f7059b884532bb433ec10383daf6",
            "placeholder": "​",
            "style": "IPY_MODEL_572e791db2a042838d802ecb4e34fba6",
            "value": "Downloading: "
          }
        },
        "2184bc056460430594a95cf147d97f3b": {
          "model_module": "@jupyter-widgets/controls",
          "model_name": "FloatProgressModel",
          "model_module_version": "1.5.0",
          "state": {
            "_dom_classes": [],
            "_model_module": "@jupyter-widgets/controls",
            "_model_module_version": "1.5.0",
            "_model_name": "FloatProgressModel",
            "_view_count": null,
            "_view_module": "@jupyter-widgets/controls",
            "_view_module_version": "1.5.0",
            "_view_name": "ProgressView",
            "bar_style": "success",
            "description": "",
            "description_tooltip": null,
            "layout": "IPY_MODEL_2fa0e76900d948d49804bf9228f83f44",
            "max": 1,
            "min": 0,
            "orientation": "horizontal",
            "style": "IPY_MODEL_53a12f400a0b4adab7954fe8cb20806f",
            "value": 0
          }
        },
        "88595afec247481da2b06c654825b397": {
          "model_module": "@jupyter-widgets/controls",
          "model_name": "HTMLModel",
          "model_module_version": "1.5.0",
          "state": {
            "_dom_classes": [],
            "_model_module": "@jupyter-widgets/controls",
            "_model_module_version": "1.5.0",
            "_model_name": "HTMLModel",
            "_view_count": null,
            "_view_module": "@jupyter-widgets/controls",
            "_view_module_version": "1.5.0",
            "_view_name": "HTMLView",
            "description": "",
            "description_tooltip": null,
            "layout": "IPY_MODEL_28a9be4ec89845d9a2dd407ce4e7c742",
            "placeholder": "​",
            "style": "IPY_MODEL_32259cde2ab04e2b9d515f5f17dbd541",
            "value": ""
          }
        },
        "d1efd4847756469b8f22c04ef95f2d40": {
          "model_module": "@jupyter-widgets/base",
          "model_name": "LayoutModel",
          "model_module_version": "1.2.0",
          "state": {
            "_model_module": "@jupyter-widgets/base",
            "_model_module_version": "1.2.0",
            "_model_name": "LayoutModel",
            "_view_count": null,
            "_view_module": "@jupyter-widgets/base",
            "_view_module_version": "1.2.0",
            "_view_name": "LayoutView",
            "align_content": null,
            "align_items": null,
            "align_self": null,
            "border": null,
            "bottom": null,
            "display": null,
            "flex": null,
            "flex_flow": null,
            "grid_area": null,
            "grid_auto_columns": null,
            "grid_auto_flow": null,
            "grid_auto_rows": null,
            "grid_column": null,
            "grid_gap": null,
            "grid_row": null,
            "grid_template_areas": null,
            "grid_template_columns": null,
            "grid_template_rows": null,
            "height": null,
            "justify_content": null,
            "justify_items": null,
            "left": null,
            "margin": null,
            "max_height": null,
            "max_width": null,
            "min_height": null,
            "min_width": null,
            "object_fit": null,
            "object_position": null,
            "order": null,
            "overflow": null,
            "overflow_x": null,
            "overflow_y": null,
            "padding": null,
            "right": null,
            "top": null,
            "visibility": null,
            "width": null
          }
        },
        "4bf4f7059b884532bb433ec10383daf6": {
          "model_module": "@jupyter-widgets/base",
          "model_name": "LayoutModel",
          "model_module_version": "1.2.0",
          "state": {
            "_model_module": "@jupyter-widgets/base",
            "_model_module_version": "1.2.0",
            "_model_name": "LayoutModel",
            "_view_count": null,
            "_view_module": "@jupyter-widgets/base",
            "_view_module_version": "1.2.0",
            "_view_name": "LayoutView",
            "align_content": null,
            "align_items": null,
            "align_self": null,
            "border": null,
            "bottom": null,
            "display": null,
            "flex": null,
            "flex_flow": null,
            "grid_area": null,
            "grid_auto_columns": null,
            "grid_auto_flow": null,
            "grid_auto_rows": null,
            "grid_column": null,
            "grid_gap": null,
            "grid_row": null,
            "grid_template_areas": null,
            "grid_template_columns": null,
            "grid_template_rows": null,
            "height": null,
            "justify_content": null,
            "justify_items": null,
            "left": null,
            "margin": null,
            "max_height": null,
            "max_width": null,
            "min_height": null,
            "min_width": null,
            "object_fit": null,
            "object_position": null,
            "order": null,
            "overflow": null,
            "overflow_x": null,
            "overflow_y": null,
            "padding": null,
            "right": null,
            "top": null,
            "visibility": null,
            "width": null
          }
        },
        "572e791db2a042838d802ecb4e34fba6": {
          "model_module": "@jupyter-widgets/controls",
          "model_name": "DescriptionStyleModel",
          "model_module_version": "1.5.0",
          "state": {
            "_model_module": "@jupyter-widgets/controls",
            "_model_module_version": "1.5.0",
            "_model_name": "DescriptionStyleModel",
            "_view_count": null,
            "_view_module": "@jupyter-widgets/base",
            "_view_module_version": "1.2.0",
            "_view_name": "StyleView",
            "description_width": ""
          }
        },
        "2fa0e76900d948d49804bf9228f83f44": {
          "model_module": "@jupyter-widgets/base",
          "model_name": "LayoutModel",
          "model_module_version": "1.2.0",
          "state": {
            "_model_module": "@jupyter-widgets/base",
            "_model_module_version": "1.2.0",
            "_model_name": "LayoutModel",
            "_view_count": null,
            "_view_module": "@jupyter-widgets/base",
            "_view_module_version": "1.2.0",
            "_view_name": "LayoutView",
            "align_content": null,
            "align_items": null,
            "align_self": null,
            "border": null,
            "bottom": null,
            "display": null,
            "flex": null,
            "flex_flow": null,
            "grid_area": null,
            "grid_auto_columns": null,
            "grid_auto_flow": null,
            "grid_auto_rows": null,
            "grid_column": null,
            "grid_gap": null,
            "grid_row": null,
            "grid_template_areas": null,
            "grid_template_columns": null,
            "grid_template_rows": null,
            "height": null,
            "justify_content": null,
            "justify_items": null,
            "left": null,
            "margin": null,
            "max_height": null,
            "max_width": null,
            "min_height": null,
            "min_width": null,
            "object_fit": null,
            "object_position": null,
            "order": null,
            "overflow": null,
            "overflow_x": null,
            "overflow_y": null,
            "padding": null,
            "right": null,
            "top": null,
            "visibility": null,
            "width": "20px"
          }
        },
        "53a12f400a0b4adab7954fe8cb20806f": {
          "model_module": "@jupyter-widgets/controls",
          "model_name": "ProgressStyleModel",
          "model_module_version": "1.5.0",
          "state": {
            "_model_module": "@jupyter-widgets/controls",
            "_model_module_version": "1.5.0",
            "_model_name": "ProgressStyleModel",
            "_view_count": null,
            "_view_module": "@jupyter-widgets/base",
            "_view_module_version": "1.2.0",
            "_view_name": "StyleView",
            "bar_color": null,
            "description_width": ""
          }
        },
        "28a9be4ec89845d9a2dd407ce4e7c742": {
          "model_module": "@jupyter-widgets/base",
          "model_name": "LayoutModel",
          "model_module_version": "1.2.0",
          "state": {
            "_model_module": "@jupyter-widgets/base",
            "_model_module_version": "1.2.0",
            "_model_name": "LayoutModel",
            "_view_count": null,
            "_view_module": "@jupyter-widgets/base",
            "_view_module_version": "1.2.0",
            "_view_name": "LayoutView",
            "align_content": null,
            "align_items": null,
            "align_self": null,
            "border": null,
            "bottom": null,
            "display": null,
            "flex": null,
            "flex_flow": null,
            "grid_area": null,
            "grid_auto_columns": null,
            "grid_auto_flow": null,
            "grid_auto_rows": null,
            "grid_column": null,
            "grid_gap": null,
            "grid_row": null,
            "grid_template_areas": null,
            "grid_template_columns": null,
            "grid_template_rows": null,
            "height": null,
            "justify_content": null,
            "justify_items": null,
            "left": null,
            "margin": null,
            "max_height": null,
            "max_width": null,
            "min_height": null,
            "min_width": null,
            "object_fit": null,
            "object_position": null,
            "order": null,
            "overflow": null,
            "overflow_x": null,
            "overflow_y": null,
            "padding": null,
            "right": null,
            "top": null,
            "visibility": null,
            "width": null
          }
        },
        "32259cde2ab04e2b9d515f5f17dbd541": {
          "model_module": "@jupyter-widgets/controls",
          "model_name": "DescriptionStyleModel",
          "model_module_version": "1.5.0",
          "state": {
            "_model_module": "@jupyter-widgets/controls",
            "_model_module_version": "1.5.0",
            "_model_name": "DescriptionStyleModel",
            "_view_count": null,
            "_view_module": "@jupyter-widgets/base",
            "_view_module_version": "1.2.0",
            "_view_name": "StyleView",
            "description_width": ""
          }
        },
        "6a7b98652a874da2b010b35c244b786b": {
          "model_module": "@jupyter-widgets/controls",
          "model_name": "HBoxModel",
          "model_module_version": "1.5.0",
          "state": {
            "_dom_classes": [],
            "_model_module": "@jupyter-widgets/controls",
            "_model_module_version": "1.5.0",
            "_model_name": "HBoxModel",
            "_view_count": null,
            "_view_module": "@jupyter-widgets/controls",
            "_view_module_version": "1.5.0",
            "_view_name": "HBoxView",
            "box_style": "",
            "children": [
              "IPY_MODEL_319c5bd747c94dcda44f8b93b243ac59",
              "IPY_MODEL_a7ebc2dcf2bc454dafeab06a4cac210e",
              "IPY_MODEL_987ee891bdea45a9bd9499075b15c13c"
            ],
            "layout": "IPY_MODEL_546c4b74f1d94782a0d3079a18de7030"
          }
        },
        "319c5bd747c94dcda44f8b93b243ac59": {
          "model_module": "@jupyter-widgets/controls",
          "model_name": "HTMLModel",
          "model_module_version": "1.5.0",
          "state": {
            "_dom_classes": [],
            "_model_module": "@jupyter-widgets/controls",
            "_model_module_version": "1.5.0",
            "_model_name": "HTMLModel",
            "_view_count": null,
            "_view_module": "@jupyter-widgets/controls",
            "_view_module_version": "1.5.0",
            "_view_name": "HTMLView",
            "description": "",
            "description_tooltip": null,
            "layout": "IPY_MODEL_3d85f7a5cb824777afb2b841bdad34a2",
            "placeholder": "​",
            "style": "IPY_MODEL_e7bedee7a7ca4f40ac9ac7970b9ddc83",
            "value": "Job ID 41fc32e2-86fa-417b-9175-7352ee069bce successfully executed: 100%"
          }
        },
        "a7ebc2dcf2bc454dafeab06a4cac210e": {
          "model_module": "@jupyter-widgets/controls",
          "model_name": "FloatProgressModel",
          "model_module_version": "1.5.0",
          "state": {
            "_dom_classes": [],
            "_model_module": "@jupyter-widgets/controls",
            "_model_module_version": "1.5.0",
            "_model_name": "FloatProgressModel",
            "_view_count": null,
            "_view_module": "@jupyter-widgets/controls",
            "_view_module_version": "1.5.0",
            "_view_name": "ProgressView",
            "bar_style": "success",
            "description": "",
            "description_tooltip": null,
            "layout": "IPY_MODEL_1d1ef086f6a64ca19cb25e9d3d7c3050",
            "max": 1,
            "min": 0,
            "orientation": "horizontal",
            "style": "IPY_MODEL_f499f27c4b7349339d3f380b448abd85",
            "value": 1
          }
        },
        "987ee891bdea45a9bd9499075b15c13c": {
          "model_module": "@jupyter-widgets/controls",
          "model_name": "HTMLModel",
          "model_module_version": "1.5.0",
          "state": {
            "_dom_classes": [],
            "_model_module": "@jupyter-widgets/controls",
            "_model_module_version": "1.5.0",
            "_model_name": "HTMLModel",
            "_view_count": null,
            "_view_module": "@jupyter-widgets/controls",
            "_view_module_version": "1.5.0",
            "_view_name": "HTMLView",
            "description": "",
            "description_tooltip": null,
            "layout": "IPY_MODEL_0e7f478961f247d9babfa4ea2904f553",
            "placeholder": "​",
            "style": "IPY_MODEL_e0ff99e62cb44d24a5cad8fed306b82d",
            "value": ""
          }
        },
        "546c4b74f1d94782a0d3079a18de7030": {
          "model_module": "@jupyter-widgets/base",
          "model_name": "LayoutModel",
          "model_module_version": "1.2.0",
          "state": {
            "_model_module": "@jupyter-widgets/base",
            "_model_module_version": "1.2.0",
            "_model_name": "LayoutModel",
            "_view_count": null,
            "_view_module": "@jupyter-widgets/base",
            "_view_module_version": "1.2.0",
            "_view_name": "LayoutView",
            "align_content": null,
            "align_items": null,
            "align_self": null,
            "border": null,
            "bottom": null,
            "display": null,
            "flex": null,
            "flex_flow": null,
            "grid_area": null,
            "grid_auto_columns": null,
            "grid_auto_flow": null,
            "grid_auto_rows": null,
            "grid_column": null,
            "grid_gap": null,
            "grid_row": null,
            "grid_template_areas": null,
            "grid_template_columns": null,
            "grid_template_rows": null,
            "height": null,
            "justify_content": null,
            "justify_items": null,
            "left": null,
            "margin": null,
            "max_height": null,
            "max_width": null,
            "min_height": null,
            "min_width": null,
            "object_fit": null,
            "object_position": null,
            "order": null,
            "overflow": null,
            "overflow_x": null,
            "overflow_y": null,
            "padding": null,
            "right": null,
            "top": null,
            "visibility": null,
            "width": null
          }
        },
        "3d85f7a5cb824777afb2b841bdad34a2": {
          "model_module": "@jupyter-widgets/base",
          "model_name": "LayoutModel",
          "model_module_version": "1.2.0",
          "state": {
            "_model_module": "@jupyter-widgets/base",
            "_model_module_version": "1.2.0",
            "_model_name": "LayoutModel",
            "_view_count": null,
            "_view_module": "@jupyter-widgets/base",
            "_view_module_version": "1.2.0",
            "_view_name": "LayoutView",
            "align_content": null,
            "align_items": null,
            "align_self": null,
            "border": null,
            "bottom": null,
            "display": null,
            "flex": null,
            "flex_flow": null,
            "grid_area": null,
            "grid_auto_columns": null,
            "grid_auto_flow": null,
            "grid_auto_rows": null,
            "grid_column": null,
            "grid_gap": null,
            "grid_row": null,
            "grid_template_areas": null,
            "grid_template_columns": null,
            "grid_template_rows": null,
            "height": null,
            "justify_content": null,
            "justify_items": null,
            "left": null,
            "margin": null,
            "max_height": null,
            "max_width": null,
            "min_height": null,
            "min_width": null,
            "object_fit": null,
            "object_position": null,
            "order": null,
            "overflow": null,
            "overflow_x": null,
            "overflow_y": null,
            "padding": null,
            "right": null,
            "top": null,
            "visibility": null,
            "width": null
          }
        },
        "e7bedee7a7ca4f40ac9ac7970b9ddc83": {
          "model_module": "@jupyter-widgets/controls",
          "model_name": "DescriptionStyleModel",
          "model_module_version": "1.5.0",
          "state": {
            "_model_module": "@jupyter-widgets/controls",
            "_model_module_version": "1.5.0",
            "_model_name": "DescriptionStyleModel",
            "_view_count": null,
            "_view_module": "@jupyter-widgets/base",
            "_view_module_version": "1.2.0",
            "_view_name": "StyleView",
            "description_width": ""
          }
        },
        "1d1ef086f6a64ca19cb25e9d3d7c3050": {
          "model_module": "@jupyter-widgets/base",
          "model_name": "LayoutModel",
          "model_module_version": "1.2.0",
          "state": {
            "_model_module": "@jupyter-widgets/base",
            "_model_module_version": "1.2.0",
            "_model_name": "LayoutModel",
            "_view_count": null,
            "_view_module": "@jupyter-widgets/base",
            "_view_module_version": "1.2.0",
            "_view_name": "LayoutView",
            "align_content": null,
            "align_items": null,
            "align_self": null,
            "border": null,
            "bottom": null,
            "display": null,
            "flex": null,
            "flex_flow": null,
            "grid_area": null,
            "grid_auto_columns": null,
            "grid_auto_flow": null,
            "grid_auto_rows": null,
            "grid_column": null,
            "grid_gap": null,
            "grid_row": null,
            "grid_template_areas": null,
            "grid_template_columns": null,
            "grid_template_rows": null,
            "height": null,
            "justify_content": null,
            "justify_items": null,
            "left": null,
            "margin": null,
            "max_height": null,
            "max_width": null,
            "min_height": null,
            "min_width": null,
            "object_fit": null,
            "object_position": null,
            "order": null,
            "overflow": null,
            "overflow_x": null,
            "overflow_y": null,
            "padding": null,
            "right": null,
            "top": null,
            "visibility": null,
            "width": null
          }
        },
        "f499f27c4b7349339d3f380b448abd85": {
          "model_module": "@jupyter-widgets/controls",
          "model_name": "ProgressStyleModel",
          "model_module_version": "1.5.0",
          "state": {
            "_model_module": "@jupyter-widgets/controls",
            "_model_module_version": "1.5.0",
            "_model_name": "ProgressStyleModel",
            "_view_count": null,
            "_view_module": "@jupyter-widgets/base",
            "_view_module_version": "1.2.0",
            "_view_name": "StyleView",
            "bar_color": null,
            "description_width": ""
          }
        },
        "0e7f478961f247d9babfa4ea2904f553": {
          "model_module": "@jupyter-widgets/base",
          "model_name": "LayoutModel",
          "model_module_version": "1.2.0",
          "state": {
            "_model_module": "@jupyter-widgets/base",
            "_model_module_version": "1.2.0",
            "_model_name": "LayoutModel",
            "_view_count": null,
            "_view_module": "@jupyter-widgets/base",
            "_view_module_version": "1.2.0",
            "_view_name": "LayoutView",
            "align_content": null,
            "align_items": null,
            "align_self": null,
            "border": null,
            "bottom": null,
            "display": null,
            "flex": null,
            "flex_flow": null,
            "grid_area": null,
            "grid_auto_columns": null,
            "grid_auto_flow": null,
            "grid_auto_rows": null,
            "grid_column": null,
            "grid_gap": null,
            "grid_row": null,
            "grid_template_areas": null,
            "grid_template_columns": null,
            "grid_template_rows": null,
            "height": null,
            "justify_content": null,
            "justify_items": null,
            "left": null,
            "margin": null,
            "max_height": null,
            "max_width": null,
            "min_height": null,
            "min_width": null,
            "object_fit": null,
            "object_position": null,
            "order": null,
            "overflow": null,
            "overflow_x": null,
            "overflow_y": null,
            "padding": null,
            "right": null,
            "top": null,
            "visibility": null,
            "width": null
          }
        },
        "e0ff99e62cb44d24a5cad8fed306b82d": {
          "model_module": "@jupyter-widgets/controls",
          "model_name": "DescriptionStyleModel",
          "model_module_version": "1.5.0",
          "state": {
            "_model_module": "@jupyter-widgets/controls",
            "_model_module_version": "1.5.0",
            "_model_name": "DescriptionStyleModel",
            "_view_count": null,
            "_view_module": "@jupyter-widgets/base",
            "_view_module_version": "1.2.0",
            "_view_name": "StyleView",
            "description_width": ""
          }
        },
        "c5eb5b2c9e2f4dffa7414508ca0b3be4": {
          "model_module": "@jupyter-widgets/controls",
          "model_name": "HBoxModel",
          "model_module_version": "1.5.0",
          "state": {
            "_dom_classes": [],
            "_model_module": "@jupyter-widgets/controls",
            "_model_module_version": "1.5.0",
            "_model_name": "HBoxModel",
            "_view_count": null,
            "_view_module": "@jupyter-widgets/controls",
            "_view_module_version": "1.5.0",
            "_view_name": "HBoxView",
            "box_style": "",
            "children": [
              "IPY_MODEL_1efee0a5114540349866c15e8a7bbc74",
              "IPY_MODEL_15893e959fdd4ff8aa623eb4d9697644",
              "IPY_MODEL_14ed87ea7a52497c88bec2abad4e895d"
            ],
            "layout": "IPY_MODEL_441056d6b31e4a12a5c21e78a8b344f1"
          }
        },
        "1efee0a5114540349866c15e8a7bbc74": {
          "model_module": "@jupyter-widgets/controls",
          "model_name": "HTMLModel",
          "model_module_version": "1.5.0",
          "state": {
            "_dom_classes": [],
            "_model_module": "@jupyter-widgets/controls",
            "_model_module_version": "1.5.0",
            "_model_name": "HTMLModel",
            "_view_count": null,
            "_view_module": "@jupyter-widgets/controls",
            "_view_module_version": "1.5.0",
            "_view_name": "HTMLView",
            "description": "",
            "description_tooltip": null,
            "layout": "IPY_MODEL_0811ce16911d44799e9740b65e7dd5d6",
            "placeholder": "​",
            "style": "IPY_MODEL_505d9f30780e41888b9bff9a79e42db6",
            "value": "Downloading: 100%"
          }
        },
        "15893e959fdd4ff8aa623eb4d9697644": {
          "model_module": "@jupyter-widgets/controls",
          "model_name": "FloatProgressModel",
          "model_module_version": "1.5.0",
          "state": {
            "_dom_classes": [],
            "_model_module": "@jupyter-widgets/controls",
            "_model_module_version": "1.5.0",
            "_model_name": "FloatProgressModel",
            "_view_count": null,
            "_view_module": "@jupyter-widgets/controls",
            "_view_module_version": "1.5.0",
            "_view_name": "ProgressView",
            "bar_style": "success",
            "description": "",
            "description_tooltip": null,
            "layout": "IPY_MODEL_0c68b1212242447e86972c708fb752df",
            "max": 5717,
            "min": 0,
            "orientation": "horizontal",
            "style": "IPY_MODEL_6cc7952c839c4a259eeb2affa4bba05d",
            "value": 5717
          }
        },
        "14ed87ea7a52497c88bec2abad4e895d": {
          "model_module": "@jupyter-widgets/controls",
          "model_name": "HTMLModel",
          "model_module_version": "1.5.0",
          "state": {
            "_dom_classes": [],
            "_model_module": "@jupyter-widgets/controls",
            "_model_module_version": "1.5.0",
            "_model_name": "HTMLModel",
            "_view_count": null,
            "_view_module": "@jupyter-widgets/controls",
            "_view_module_version": "1.5.0",
            "_view_name": "HTMLView",
            "description": "",
            "description_tooltip": null,
            "layout": "IPY_MODEL_f7d04329585944789b2aa54389455280",
            "placeholder": "​",
            "style": "IPY_MODEL_620bf7ee0a544d4782f6e011cd722be5",
            "value": ""
          }
        },
        "441056d6b31e4a12a5c21e78a8b344f1": {
          "model_module": "@jupyter-widgets/base",
          "model_name": "LayoutModel",
          "model_module_version": "1.2.0",
          "state": {
            "_model_module": "@jupyter-widgets/base",
            "_model_module_version": "1.2.0",
            "_model_name": "LayoutModel",
            "_view_count": null,
            "_view_module": "@jupyter-widgets/base",
            "_view_module_version": "1.2.0",
            "_view_name": "LayoutView",
            "align_content": null,
            "align_items": null,
            "align_self": null,
            "border": null,
            "bottom": null,
            "display": null,
            "flex": null,
            "flex_flow": null,
            "grid_area": null,
            "grid_auto_columns": null,
            "grid_auto_flow": null,
            "grid_auto_rows": null,
            "grid_column": null,
            "grid_gap": null,
            "grid_row": null,
            "grid_template_areas": null,
            "grid_template_columns": null,
            "grid_template_rows": null,
            "height": null,
            "justify_content": null,
            "justify_items": null,
            "left": null,
            "margin": null,
            "max_height": null,
            "max_width": null,
            "min_height": null,
            "min_width": null,
            "object_fit": null,
            "object_position": null,
            "order": null,
            "overflow": null,
            "overflow_x": null,
            "overflow_y": null,
            "padding": null,
            "right": null,
            "top": null,
            "visibility": null,
            "width": null
          }
        },
        "0811ce16911d44799e9740b65e7dd5d6": {
          "model_module": "@jupyter-widgets/base",
          "model_name": "LayoutModel",
          "model_module_version": "1.2.0",
          "state": {
            "_model_module": "@jupyter-widgets/base",
            "_model_module_version": "1.2.0",
            "_model_name": "LayoutModel",
            "_view_count": null,
            "_view_module": "@jupyter-widgets/base",
            "_view_module_version": "1.2.0",
            "_view_name": "LayoutView",
            "align_content": null,
            "align_items": null,
            "align_self": null,
            "border": null,
            "bottom": null,
            "display": null,
            "flex": null,
            "flex_flow": null,
            "grid_area": null,
            "grid_auto_columns": null,
            "grid_auto_flow": null,
            "grid_auto_rows": null,
            "grid_column": null,
            "grid_gap": null,
            "grid_row": null,
            "grid_template_areas": null,
            "grid_template_columns": null,
            "grid_template_rows": null,
            "height": null,
            "justify_content": null,
            "justify_items": null,
            "left": null,
            "margin": null,
            "max_height": null,
            "max_width": null,
            "min_height": null,
            "min_width": null,
            "object_fit": null,
            "object_position": null,
            "order": null,
            "overflow": null,
            "overflow_x": null,
            "overflow_y": null,
            "padding": null,
            "right": null,
            "top": null,
            "visibility": null,
            "width": null
          }
        },
        "505d9f30780e41888b9bff9a79e42db6": {
          "model_module": "@jupyter-widgets/controls",
          "model_name": "DescriptionStyleModel",
          "model_module_version": "1.5.0",
          "state": {
            "_model_module": "@jupyter-widgets/controls",
            "_model_module_version": "1.5.0",
            "_model_name": "DescriptionStyleModel",
            "_view_count": null,
            "_view_module": "@jupyter-widgets/base",
            "_view_module_version": "1.2.0",
            "_view_name": "StyleView",
            "description_width": ""
          }
        },
        "0c68b1212242447e86972c708fb752df": {
          "model_module": "@jupyter-widgets/base",
          "model_name": "LayoutModel",
          "model_module_version": "1.2.0",
          "state": {
            "_model_module": "@jupyter-widgets/base",
            "_model_module_version": "1.2.0",
            "_model_name": "LayoutModel",
            "_view_count": null,
            "_view_module": "@jupyter-widgets/base",
            "_view_module_version": "1.2.0",
            "_view_name": "LayoutView",
            "align_content": null,
            "align_items": null,
            "align_self": null,
            "border": null,
            "bottom": null,
            "display": null,
            "flex": null,
            "flex_flow": null,
            "grid_area": null,
            "grid_auto_columns": null,
            "grid_auto_flow": null,
            "grid_auto_rows": null,
            "grid_column": null,
            "grid_gap": null,
            "grid_row": null,
            "grid_template_areas": null,
            "grid_template_columns": null,
            "grid_template_rows": null,
            "height": null,
            "justify_content": null,
            "justify_items": null,
            "left": null,
            "margin": null,
            "max_height": null,
            "max_width": null,
            "min_height": null,
            "min_width": null,
            "object_fit": null,
            "object_position": null,
            "order": null,
            "overflow": null,
            "overflow_x": null,
            "overflow_y": null,
            "padding": null,
            "right": null,
            "top": null,
            "visibility": null,
            "width": null
          }
        },
        "6cc7952c839c4a259eeb2affa4bba05d": {
          "model_module": "@jupyter-widgets/controls",
          "model_name": "ProgressStyleModel",
          "model_module_version": "1.5.0",
          "state": {
            "_model_module": "@jupyter-widgets/controls",
            "_model_module_version": "1.5.0",
            "_model_name": "ProgressStyleModel",
            "_view_count": null,
            "_view_module": "@jupyter-widgets/base",
            "_view_module_version": "1.2.0",
            "_view_name": "StyleView",
            "bar_color": null,
            "description_width": ""
          }
        },
        "f7d04329585944789b2aa54389455280": {
          "model_module": "@jupyter-widgets/base",
          "model_name": "LayoutModel",
          "model_module_version": "1.2.0",
          "state": {
            "_model_module": "@jupyter-widgets/base",
            "_model_module_version": "1.2.0",
            "_model_name": "LayoutModel",
            "_view_count": null,
            "_view_module": "@jupyter-widgets/base",
            "_view_module_version": "1.2.0",
            "_view_name": "LayoutView",
            "align_content": null,
            "align_items": null,
            "align_self": null,
            "border": null,
            "bottom": null,
            "display": null,
            "flex": null,
            "flex_flow": null,
            "grid_area": null,
            "grid_auto_columns": null,
            "grid_auto_flow": null,
            "grid_auto_rows": null,
            "grid_column": null,
            "grid_gap": null,
            "grid_row": null,
            "grid_template_areas": null,
            "grid_template_columns": null,
            "grid_template_rows": null,
            "height": null,
            "justify_content": null,
            "justify_items": null,
            "left": null,
            "margin": null,
            "max_height": null,
            "max_width": null,
            "min_height": null,
            "min_width": null,
            "object_fit": null,
            "object_position": null,
            "order": null,
            "overflow": null,
            "overflow_x": null,
            "overflow_y": null,
            "padding": null,
            "right": null,
            "top": null,
            "visibility": null,
            "width": null
          }
        },
        "620bf7ee0a544d4782f6e011cd722be5": {
          "model_module": "@jupyter-widgets/controls",
          "model_name": "DescriptionStyleModel",
          "model_module_version": "1.5.0",
          "state": {
            "_model_module": "@jupyter-widgets/controls",
            "_model_module_version": "1.5.0",
            "_model_name": "DescriptionStyleModel",
            "_view_count": null,
            "_view_module": "@jupyter-widgets/base",
            "_view_module_version": "1.2.0",
            "_view_name": "StyleView",
            "description_width": ""
          }
        }
      }
    }
  },
  "nbformat": 4,
  "nbformat_minor": 0
}