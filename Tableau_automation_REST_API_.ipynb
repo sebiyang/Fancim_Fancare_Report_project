{
  "nbformat": 4,
  "nbformat_minor": 0,
  "metadata": {
    "colab": {
      "provenance": []
    },
    "kernelspec": {
      "name": "python3",
      "display_name": "Python 3"
    },
    "language_info": {
      "name": "python"
    }
  },
  "cells": [
    {
      "cell_type": "code",
      "source": [
        "pip install tableau_api_lib"
      ],
      "metadata": {
        "colab": {
          "base_uri": "https://localhost:8080/"
        },
        "id": "tBg1muGN-3Uh",
        "outputId": "a5edec44-62fe-4a6b-d13f-53cd8fb31b1b"
      },
      "execution_count": null,
      "outputs": [
        {
          "output_type": "stream",
          "name": "stdout",
          "text": [
            "Looking in indexes: https://pypi.org/simple, https://us-python.pkg.dev/colab-wheels/public/simple/\n",
            "Collecting tableau_api_lib\n",
            "  Downloading tableau_api_lib-0.1.50-py3-none-any.whl (144 kB)\n",
            "\u001b[2K     \u001b[90m━━━━━━━━━━━━━━━━━━━━━━━━━━━━━━━━━━━━━━━\u001b[0m \u001b[32m144.0/144.0 KB\u001b[0m \u001b[31m3.5 MB/s\u001b[0m eta \u001b[36m0:00:00\u001b[0m\n",
            "\u001b[?25hRequirement already satisfied: requests>2 in /usr/local/lib/python3.9/dist-packages (from tableau_api_lib) (2.27.1)\n",
            "Requirement already satisfied: pandas in /usr/local/lib/python3.9/dist-packages (from tableau_api_lib) (1.4.4)\n",
            "Requirement already satisfied: packaging in /usr/local/lib/python3.9/dist-packages (from tableau_api_lib) (23.0)\n",
            "Requirement already satisfied: bleach>=3.0 in /usr/local/lib/python3.9/dist-packages (from tableau_api_lib) (6.0.0)\n",
            "Collecting typeguard\n",
            "  Downloading typeguard-3.0.2-py3-none-any.whl (30 kB)\n",
            "Requirement already satisfied: urllib3 in /usr/local/lib/python3.9/dist-packages (from tableau_api_lib) (1.26.15)\n",
            "Collecting requests-toolbelt>=0.9.0\n",
            "  Downloading requests_toolbelt-0.10.1-py2.py3-none-any.whl (54 kB)\n",
            "\u001b[2K     \u001b[90m━━━━━━━━━━━━━━━━━━━━━━━━━━━━━━━━━━━━━━━━\u001b[0m \u001b[32m54.5/54.5 KB\u001b[0m \u001b[31m4.9 MB/s\u001b[0m eta \u001b[36m0:00:00\u001b[0m\n",
            "\u001b[?25hRequirement already satisfied: webencodings in /usr/local/lib/python3.9/dist-packages (from bleach>=3.0->tableau_api_lib) (0.5.1)\n",
            "Requirement already satisfied: six>=1.9.0 in /usr/local/lib/python3.9/dist-packages (from bleach>=3.0->tableau_api_lib) (1.16.0)\n",
            "Requirement already satisfied: certifi>=2017.4.17 in /usr/local/lib/python3.9/dist-packages (from requests>2->tableau_api_lib) (2022.12.7)\n",
            "Requirement already satisfied: idna<4,>=2.5 in /usr/local/lib/python3.9/dist-packages (from requests>2->tableau_api_lib) (3.4)\n",
            "Requirement already satisfied: charset-normalizer~=2.0.0 in /usr/local/lib/python3.9/dist-packages (from requests>2->tableau_api_lib) (2.0.12)\n",
            "Requirement already satisfied: pytz>=2020.1 in /usr/local/lib/python3.9/dist-packages (from pandas->tableau_api_lib) (2022.7.1)\n",
            "Requirement already satisfied: python-dateutil>=2.8.1 in /usr/local/lib/python3.9/dist-packages (from pandas->tableau_api_lib) (2.8.2)\n",
            "Requirement already satisfied: numpy>=1.18.5 in /usr/local/lib/python3.9/dist-packages (from pandas->tableau_api_lib) (1.22.4)\n",
            "Requirement already satisfied: typing-extensions>=4.4.0 in /usr/local/lib/python3.9/dist-packages (from typeguard->tableau_api_lib) (4.5.0)\n",
            "Requirement already satisfied: importlib-metadata>=3.6 in /usr/local/lib/python3.9/dist-packages (from typeguard->tableau_api_lib) (6.1.0)\n",
            "Requirement already satisfied: zipp>=0.5 in /usr/local/lib/python3.9/dist-packages (from importlib-metadata>=3.6->typeguard->tableau_api_lib) (3.15.0)\n",
            "Installing collected packages: typeguard, requests-toolbelt, tableau_api_lib\n",
            "Successfully installed requests-toolbelt-0.10.1 tableau_api_lib-0.1.50 typeguard-3.0.2\n"
          ]
        }
      ]
    },
    {
      "cell_type": "code",
      "execution_count": null,
      "metadata": {
        "id": "RkNLq-6S9Ci4"
      },
      "outputs": [],
      "source": [
        "from urllib import parse\n",
        "from tableau_api_lib import TableauServerConnection\n",
        "from tableau_api_lib.utils import querying, flatten_dict_column"
      ]
    },
    {
      "cell_type": "code",
      "source": [
        "#Reference https://www.youtube.com/watch?v=m4gAQlSas54&list=PLb9SBpBFc19r9dnLkyuAp2EJ7yQB6tFN_&index=1\n",
        "\n",
        "\n",
        "config = {\n",
        "    'tableau_prod': {\n",
        "        'server': 'your server id',\n",
        "        'api_version': '3.19', \n",
        "        'personal_access_token_name': 'token name',\n",
        "        'personal_access_token_secret': token code',\n",
        "        'site_name': 'your cite name',\n",
        "        'site_url': 'your cite name'\n",
        "    }\n",
        "}"
      ],
      "metadata": {
        "id": "NndgZH7M9Haf"
      },
      "execution_count": null,
      "outputs": []
    },
    {
      "cell_type": "code",
      "source": [
        "#Server connection\n",
        "# <Response [200]>\n",
        "\n",
        "conn = TableauServerConnection(config_json=config, env='tableau_prod')\n",
        "\n",
        "conn.sign_in()"
      ],
      "metadata": {
        "colab": {
          "base_uri": "https://localhost:8080/"
        },
        "id": "MMc_if2u9Hc4",
        "outputId": "76577635-672b-4abb-8f60-9036298aeae8"
      },
      "execution_count": null,
      "outputs": [
        {
          "output_type": "execute_result",
          "data": {
            "text/plain": [
              "<Response [200]>"
            ]
          },
          "metadata": {},
          "execution_count": 5
        }
      ]
    },
    {
      "cell_type": "code",
      "source": [
        "views_df = querying.get_views_dataframe(conn)\n",
        "\n",
        "views_df.tail()"
      ],
      "metadata": {
        "id": "jitMbBVyUlfO"
      },
      "execution_count": null,
      "outputs": []
    },
    {
      "cell_type": "code",
      "source": [
        "views_df = flatten_dict_column(views_df, keys = ['name', 'id'], col_name = 'workbook')\n",
        "\n",
        "views_df.tail()"
      ],
      "metadata": {
        "id": "20_9hChgVWli"
      },
      "execution_count": null,
      "outputs": []
    },
    {
      "cell_type": "code",
      "source": [
        "my_views_df = views_df[views_df['workbook_name']== 'your workbook name']\n",
        "my_views_df.head()"
      ],
      "metadata": {
        "id": "zu4lriWVVWnf"
      },
      "execution_count": null,
      "outputs": []
    },
    {
      "cell_type": "markdown",
      "source": [
        "### 0. extract page 0 \n",
        "\n",
        "in order to minimize error, this method used extracting each dashboard individualy, and then merging them \n",
        "\n",
        "\n",
        "---\n",
        "\n",
        "\n",
        "\n",
        "\n",
        "이중포문으로 셀럽이랑 대쉬보드를 돌리면 에러가 너무 심함.. 대시보드 4개를 하나하나 포문을 돌리고 따로따로 폴더에 저장해서 merge 하는 방식 택함 "
      ],
      "metadata": {
        "id": "dWJUltqJ-mmF"
      }
    },
    {
      "cell_type": "code",
      "source": [
        "#dashboard id\n",
        "\n",
        "pdf_view_id = 'your dashboard id'"
      ],
      "metadata": {
        "id": "zcUPRcF4VWps"
      },
      "execution_count": null,
      "outputs": []
    },
    {
      "cell_type": "code",
      "source": [
        "#celeb list\n",
        "import pandas as pd\n",
        "\n",
        "셀럽리스트_df = pd.read_csv(\"drive/celeb_list\")"
      ],
      "metadata": {
        "id": "udyieMPp9E6n"
      },
      "execution_count": null,
      "outputs": []
    },
    {
      "cell_type": "code",
      "source": [
        "celeb_list = 셀럽리스트_df['user_nickname'].tolist()"
      ],
      "metadata": {
        "id": "pFxGj1Io1Z5H"
      },
      "execution_count": null,
      "outputs": []
    },
    {
      "cell_type": "code",
      "source": [
        "#set output direction \n",
        "#저장경로지정 \n",
        "output_dir = '/content/drive/MyDrive/팬케어 보고서 프로젝트/3월_rawpdf'\n",
        "\n",
        "#set filter\n",
        "#필터링 할 대상 지정 \n",
        "\n",
        "import urllib\n",
        "import os\n",
        "\n",
        "for i in celeb_list:\n",
        "\n",
        "  #parsing\n",
        "  #파싱 \n",
        "  filter_name = urllib.parse.quote(\"Nickname\")\n",
        "  filter_value = urllib.parse.quote(i)\n",
        "\n",
        "  #filtering + naming\n",
        "  #필터링 지정 \n",
        "  pdf_params = {\n",
        "      \"pdf_orientation\":\"orientation=Landscape\",\n",
        "      \"pdf_layout\":\"type=A4\",\n",
        "      \"name_filter\": f\"vf_{filter_name}={filter_value}\",\n",
        "  }\n",
        "\n",
        "  zero_pdf = conn.query_view_pdf(view_id = pdf_view_id , parameter_dict= pdf_params)\n",
        "\n",
        "  if zero_pdf.status_code == 200:\n",
        "\n",
        "      output_filename = f\"0.{i}.pdf\"\n",
        "\n",
        "      output_path = os.path.join(output_dir, output_filename)\n",
        "\n",
        "      with open(output_path, 'wb') as file:\n",
        "          file.write(zero_pdf.content)\n",
        "\n",
        "\n",
        "  else:\n",
        "        print(f\"{i} 누락\")"
      ],
      "metadata": {
        "id": "8s0SBKvVcBHs"
      },
      "execution_count": null,
      "outputs": []
    },
    {
      "cell_type": "markdown",
      "source": [
        "## extract page 1"
      ],
      "metadata": {
        "id": "UBv0GN96-0wR"
      }
    },
    {
      "cell_type": "code",
      "source": [
        "#가지고 올 대시보드 아이디 \n",
        "\n",
        "pdf_view_id = 'your dashboard id'"
      ],
      "metadata": {
        "id": "v4mwgjIe9IBE"
      },
      "execution_count": null,
      "outputs": []
    },
    {
      "cell_type": "code",
      "source": [
        "#저장경로지정 \n",
        "output_dir = '/content/drive/MyDrive/팬케어 보고서 프로젝트/3월_rawpdf_1'\n",
        "\n",
        "###필터링 할 대상 지정하고 추출하는 코드### \n",
        "import urllib\n",
        "import os\n",
        "\n",
        "for i in celeb_list:\n",
        "\n",
        "  #파싱 \n",
        "  filter_name = urllib.parse.quote(\"Nickname\")\n",
        "  filter_value = urllib.parse.quote(i)\n",
        "\n",
        "  #필터링 지정 \n",
        "  pdf_params = {\n",
        "      \"pdf_orientation\":\"orientation=Landscape\",\n",
        "      \"pdf_layout\":\"type=A4\",\n",
        "      \"name_filter\": f\"vf_{filter_name}={filter_value}\",\n",
        "  }\n",
        "\n",
        "  one_pdf = conn.query_view_pdf(view_id = pdf_view_id , parameter_dict= pdf_params)\n",
        "\n",
        "  #만약 추출시 필터오류가 안 나는 경우만 \n",
        "  if one_pdf.status_code == 200:\n",
        "\n",
        "      output_filename = f\"1.{i}.pdf\"\n",
        "      output_path = os.path.join(output_dir, output_filename)\n",
        "      \n",
        "      with open(output_path, 'wb') as file:\n",
        "\n",
        "          file.write(one_pdf.content)\n",
        "\n",
        "\n",
        "  else:\n",
        "        print(f\"{i} 누락\")"
      ],
      "metadata": {
        "id": "D513XEsB9IDV"
      },
      "execution_count": null,
      "outputs": []
    },
    {
      "cell_type": "markdown",
      "source": [
        "## 2. extract page 2"
      ],
      "metadata": {
        "id": "f0zipmwF5r97"
      }
    },
    {
      "cell_type": "code",
      "source": [
        "pdf_view_id = 'your dashboard id'"
      ],
      "metadata": {
        "id": "1G3EOTk69Ga2"
      },
      "execution_count": null,
      "outputs": []
    },
    {
      "cell_type": "code",
      "source": [
        "#저장경로지정 \n",
        "output_dir = '/content/drive/MyDrive/팬케어 보고서 프로젝트/3월_rawpdf_2'\n",
        "\n",
        "###필터링 할 대상 지정하고 추출하는 코드### \n",
        "import urllib\n",
        "import os\n",
        "\n",
        "for i in celeb_list:\n",
        "\n",
        "  #파싱 \n",
        "  filter_name = urllib.parse.quote(\"Nickname\")\n",
        "  filter_value = urllib.parse.quote(i)\n",
        "\n",
        "  #필터링 지정 \n",
        "  pdf_params = {\n",
        "      \"pdf_orientation\":\"orientation=Landscape\",\n",
        "      \"pdf_layout\":\"type=A4\",\n",
        "      \"name_filter\": f\"vf_{filter_name}={filter_value}\",\n",
        "  }\n",
        "\n",
        "  two_pdf = conn.query_view_pdf(view_id = pdf_view_id , parameter_dict= pdf_params)\n",
        "\n",
        "  #추출 시 필터오류가 안 나는 경우만 \n",
        "  if two_pdf.status_code == 200:\n",
        "\n",
        "      #대시보드 순서 + 셀럽이름 순으로 이름 지정 \n",
        "      output_filename = f\"2.{i}.pdf\"\n",
        "      output_path = os.path.join(output_dir, output_filename)\n",
        "      \n",
        "      with open(output_path, 'wb') as file:\n",
        "          file.write(two_pdf.content)\n",
        "\n",
        "\n",
        "  else:\n",
        "        print(f\"{i} 누락\")"
      ],
      "metadata": {
        "id": "gBhUKhOL50oi"
      },
      "execution_count": null,
      "outputs": []
    },
    {
      "cell_type": "markdown",
      "source": [
        "##3. extract page 2\n"
      ],
      "metadata": {
        "id": "JhcZH6aOHqPC"
      }
    },
    {
      "cell_type": "code",
      "source": [
        "pdf_view_id =  'your dashboard id'"
      ],
      "metadata": {
        "id": "N2vo0RxX50vQ"
      },
      "execution_count": null,
      "outputs": []
    },
    {
      "cell_type": "code",
      "source": [
        "#저장경로지정 \n",
        "output_dir = '/content/drive/MyDrive/팬케어 보고서 프로젝트/3월_rawpdf_3'\n",
        "\n",
        "###필터링 할 대상 지정하고 추출하는 코드### \n",
        "import urllib\n",
        "import os\n",
        "\n",
        "for i in celeb_list:\n",
        "\n",
        "  #파싱 \n",
        "  filter_name = urllib.parse.quote(\"Nickname\")\n",
        "  filter_value = urllib.parse.quote(i)\n",
        "\n",
        "  #필터링 지정 \n",
        "  pdf_params = {\n",
        "      \"pdf_orientation\":\"orientation=Landscape\",\n",
        "      \"pdf_layout\":\"type=A4\",\n",
        "      \"name_filter\": f\"vf_{filter_name}={filter_value}\",\n",
        "  }\n",
        "\n",
        "  two_pdf = conn.query_view_pdf(view_id = pdf_view_id , parameter_dict= pdf_params)\n",
        "\n",
        "  #추출 시 필터오류가 안 나는 경우만 \n",
        "  if two_pdf.status_code == 200:\n",
        "\n",
        "      #대시보드 순서 + 셀럽이름 순으로 이름 지정 \n",
        "      output_filename = f\"3.{i}.pdf\"\n",
        "      output_path = os.path.join(output_dir, output_filename)\n",
        "      \n",
        "      with open(output_path, 'wb') as file:\n",
        "          file.write(two_pdf.content)\n",
        "\n",
        "\n",
        "  else:\n",
        "        print(f\"{i} 누락\")"
      ],
      "metadata": {
        "id": "eIQs18b850x_"
      },
      "execution_count": null,
      "outputs": []
    },
    {
      "cell_type": "code",
      "source": [],
      "metadata": {
        "id": "RBBcZjq-500V"
      },
      "execution_count": null,
      "outputs": []
    },
    {
      "cell_type": "code",
      "source": [],
      "metadata": {
        "id": "o72CUfDpCcUd"
      },
      "execution_count": null,
      "outputs": []
    },
    {
      "cell_type": "code",
      "source": [],
      "metadata": {
        "id": "jFyng672CcWf"
      },
      "execution_count": null,
      "outputs": []
    },
    {
      "cell_type": "code",
      "source": [],
      "metadata": {
        "id": "_uFOS1aFCcYT"
      },
      "execution_count": null,
      "outputs": []
    },
    {
      "cell_type": "code",
      "source": [],
      "metadata": {
        "id": "yyUTbYntCcaY"
      },
      "execution_count": null,
      "outputs": []
    }
  ]
}